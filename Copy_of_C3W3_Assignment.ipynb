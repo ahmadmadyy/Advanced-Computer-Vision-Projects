{
  "cells": [
    {
      "cell_type": "markdown",
      "metadata": {
        "id": "k6x_sGPQocpw"
      },
      "source": [
        "# Week 3 Assignment: Image Segmentation of Handwritten Digits\n",
        "\n",
        "<img src='https://storage.googleapis.com/tensorflow-3-public/assets/images/m2nist_segmentation.png' alt='m2nist digits'>\n",
        "\n",
        "In this week's assignment, you will build a model that predicts the segmentation masks (pixel-wise label map) of handwritten digits. This model will be trained on the [M2NIST dataset](https://www.kaggle.com/farhanhubble/multimnistm2nist), a multi digit MNIST. If you've done the ungraded lab on the CamVid dataset, then many of the steps here will look familiar.\n",
        "\n",
        "You will build a Convolutional Neural Network (CNN) from scratch for the downsampling path and use a Fully Convolutional Network, FCN-8, to upsample and produce the pixel-wise label map. The model will be evaluated using the intersection over union (IOU) and Dice Score. Finally, you will download the model and upload it to the grader in Coursera to get your score for the assignment."
      ]
    },
    {
      "cell_type": "markdown",
      "metadata": {
        "id": "cnr0kbM0g2LD"
      },
      "source": [
        "## Exercises\n",
        "\n",
        "We've given you some boilerplate code to work with and these are the 5 exercises you need to fill out before you can successfully get the segmentation masks.\n",
        "\n",
        "* [Exercise 1 - Define the Basic Convolution Block](#exercise-1)\n",
        "* [Exercise 2 - Define the Downsampling Path](#exercise-2)\n",
        "* [Exercise 3 - Define the FCN-8 decoder](#exercise-3)\n",
        "* [Exercise 4 - Compile the Model](#exercise-4)\n",
        "* [Exercise 5 - Model Training](#exercise-5)"
      ]
    },
    {
      "cell_type": "markdown",
      "metadata": {
        "id": "MZ3g9dJxSxmN"
      },
      "source": [
        "## Imports\n",
        "\n",
        "As usual, let's start by importing the packages you will use in this lab."
      ]
    },
    {
      "cell_type": "code",
      "execution_count": 1,
      "metadata": {
        "id": "aifz2907kxYN",
        "colab": {
          "base_uri": "https://localhost:8080/"
        },
        "outputId": "83095b1f-7903-4c97-e4f9-745aee307e11"
      },
      "outputs": [
        {
          "output_type": "stream",
          "name": "stdout",
          "text": [
            "Colab only includes TensorFlow 2.x; %tensorflow_version has no effect.\n",
            "Tensorflow version 2.15.0\n"
          ]
        }
      ],
      "source": [
        "try:\n",
        "  # %tensorflow_version only exists in Colab.\n",
        "  %tensorflow_version 2.x\n",
        "except Exception:\n",
        "  pass\n",
        "\n",
        "import os\n",
        "import zipfile\n",
        "\n",
        "import PIL.Image, PIL.ImageFont, PIL.ImageDraw\n",
        "import numpy as np\n",
        "from matplotlib import pyplot as plt\n",
        "\n",
        "import tensorflow as tf\n",
        "import tensorflow_datasets as tfds\n",
        "from sklearn.model_selection import train_test_split\n",
        "\n",
        "print(\"Tensorflow version \" + tf.__version__)"
      ]
    },
    {
      "cell_type": "markdown",
      "metadata": {
        "id": "7RYh6cCzXE6R"
      },
      "source": [
        "## Download the dataset"
      ]
    },
    {
      "cell_type": "markdown",
      "metadata": {
        "id": "QUGGF3wfqYni"
      },
      "source": [
        "[M2NIST](https://www.kaggle.com/farhanhubble/multimnistm2nist) is a **multi digit** [MNIST](http://yann.lecun.com/exdb/mnist/).\n",
        "Each image has up to 3 digits from MNIST digits and the corresponding labels file has the segmentation masks.\n",
        "\n",
        "The dataset is available on [Kaggle](https://www.kaggle.com) and you can find it [here](https://www.kaggle.com/farhanhubble/multimnistm2nist)\n",
        "\n",
        "To make it easier for you, we're hosting it on Google Cloud so you can download without Kaggle credentials.\n"
      ]
    },
    {
      "cell_type": "code",
      "execution_count": 2,
      "metadata": {
        "id": "ROok0i9rMcu0",
        "colab": {
          "base_uri": "https://localhost:8080/"
        },
        "outputId": "73aa594e-8061-493c-bfdc-3ea58b624cc9"
      },
      "outputs": [
        {
          "output_type": "stream",
          "name": "stdout",
          "text": [
            "--2024-06-30 14:27:51--  https://storage.googleapis.com/tensorflow-1-public/tensorflow-3-temp/m2nist.zip\n",
            "Resolving storage.googleapis.com (storage.googleapis.com)... 74.125.202.207, 173.194.206.207, 209.85.145.207, ...\n",
            "Connecting to storage.googleapis.com (storage.googleapis.com)|74.125.202.207|:443... connected.\n",
            "HTTP request sent, awaiting response... 200 OK\n",
            "Length: 17378168 (17M) [application/zip]\n",
            "Saving to: ‘/tmp/m2nist.zip’\n",
            "\n",
            "/tmp/m2nist.zip     100%[===================>]  16.57M  --.-KB/s    in 0.1s    \n",
            "\n",
            "2024-06-30 14:27:51 (139 MB/s) - ‘/tmp/m2nist.zip’ saved [17378168/17378168]\n",
            "\n"
          ]
        }
      ],
      "source": [
        "# download zipped dataset\n",
        "!wget --no-check-certificate \\\n",
        "    https://storage.googleapis.com/tensorflow-1-public/tensorflow-3-temp/m2nist.zip \\\n",
        "    -O /tmp/m2nist.zip\n",
        "\n",
        "# find and extract to a local folder ('/tmp/training')\n",
        "local_zip = '/tmp/m2nist.zip'\n",
        "zip_ref = zipfile.ZipFile(local_zip, 'r')\n",
        "zip_ref.extractall('/tmp/training')\n",
        "zip_ref.close()"
      ]
    },
    {
      "cell_type": "markdown",
      "metadata": {
        "id": "xy17LYR7XJNa"
      },
      "source": [
        "## Load and Preprocess the Dataset"
      ]
    },
    {
      "cell_type": "markdown",
      "metadata": {
        "id": "LXGMrWnkrvpK"
      },
      "source": [
        "This dataset can be easily preprocessed since it is available as **Numpy Array Files (.npy)**\n",
        "\n",
        "1. **combined.npy** has the image files containing the multiple MNIST digits. Each image is of size **64 x 84** (height x width, in pixels).\n",
        "\n",
        "2. **segmented.npy** has the corresponding segmentation masks. Each segmentation mask is also of size **64 x 84**.\n",
        "\n",
        "This dataset has **5000** samples and you can make appropriate training, validation, and test splits as required for the problem.\n",
        "\n",
        "With that, let's define a few utility functions for loading and preprocessing the dataset."
      ]
    },
    {
      "cell_type": "code",
      "execution_count": 3,
      "metadata": {
        "id": "Jy_pw5I2-xLP"
      },
      "outputs": [],
      "source": [
        "BATCH_SIZE = 32\n",
        "\n",
        "def read_image_and_annotation(image, annotation):\n",
        "  '''\n",
        "  Casts the image and annotation to their expected data type and\n",
        "  normalizes the input image so that each pixel is in the range [-1, 1]\n",
        "\n",
        "  Args:\n",
        "    image (numpy array) -- input image\n",
        "    annotation (numpy array) -- ground truth label map\n",
        "\n",
        "  Returns:\n",
        "    preprocessed image-annotation pair\n",
        "  '''\n",
        "\n",
        "  image = tf.cast(image, dtype=tf.float32)\n",
        "  image = tf.reshape(image, (image.shape[0], image.shape[1], 1,))\n",
        "  annotation = tf.cast(annotation, dtype=tf.int32)\n",
        "  image = image / 127.5\n",
        "  image -= 1\n",
        "\n",
        "  return image, annotation\n",
        "\n",
        "\n",
        "def get_training_dataset(images, annos):\n",
        "  '''\n",
        "  Prepares shuffled batches of the training set.\n",
        "\n",
        "  Args:\n",
        "    images (list of strings) -- paths to each image file in the train set\n",
        "    annos (list of strings) -- paths to each label map in the train set\n",
        "\n",
        "  Returns:\n",
        "    tf Dataset containing the preprocessed train set\n",
        "  '''\n",
        "  training_dataset = tf.data.Dataset.from_tensor_slices((images, annos))\n",
        "  training_dataset = training_dataset.map(read_image_and_annotation)\n",
        "\n",
        "  training_dataset = training_dataset.shuffle(512, reshuffle_each_iteration=True)\n",
        "  training_dataset = training_dataset.batch(BATCH_SIZE)\n",
        "  training_dataset = training_dataset.repeat()\n",
        "  training_dataset = training_dataset.prefetch(-1)\n",
        "\n",
        "  return training_dataset\n",
        "\n",
        "\n",
        "def get_validation_dataset(images, annos):\n",
        "  '''\n",
        "  Prepares batches of the validation set.\n",
        "\n",
        "  Args:\n",
        "    images (list of strings) -- paths to each image file in the val set\n",
        "    annos (list of strings) -- paths to each label map in the val set\n",
        "\n",
        "  Returns:\n",
        "    tf Dataset containing the preprocessed validation set\n",
        "  '''\n",
        "  validation_dataset = tf.data.Dataset.from_tensor_slices((images, annos))\n",
        "  validation_dataset = validation_dataset.map(read_image_and_annotation)\n",
        "  validation_dataset = validation_dataset.batch(BATCH_SIZE)\n",
        "  validation_dataset = validation_dataset.repeat()\n",
        "\n",
        "  return validation_dataset\n",
        "\n",
        "\n",
        "def get_test_dataset(images, annos):\n",
        "  '''\n",
        "  Prepares batches of the test set.\n",
        "\n",
        "  Args:\n",
        "    images (list of strings) -- paths to each image file in the test set\n",
        "    annos (list of strings) -- paths to each label map in the test set\n",
        "\n",
        "  Returns:\n",
        "    tf Dataset containing the preprocessed validation set\n",
        "  '''\n",
        "  test_dataset = tf.data.Dataset.from_tensor_slices((images, annos))\n",
        "  test_dataset = test_dataset.map(read_image_and_annotation)\n",
        "  test_dataset = test_dataset.batch(BATCH_SIZE, drop_remainder=True)\n",
        "\n",
        "  return test_dataset\n",
        "\n",
        "\n",
        "def load_images_and_segments():\n",
        "  '''\n",
        "  Loads the images and segments as numpy arrays from npy files\n",
        "  and makes splits for training, validation and test datasets.\n",
        "\n",
        "  Returns:\n",
        "    3 tuples containing the train, val, and test splits\n",
        "  '''\n",
        "\n",
        "  #Loads images and segmentation masks.\n",
        "  images = np.load('/tmp/training/combined.npy')\n",
        "  segments = np.load('/tmp/training/segmented.npy')\n",
        "\n",
        "  #Makes training, validation, test splits from loaded images and segmentation masks.\n",
        "  train_images, val_images, train_annos, val_annos = train_test_split(images, segments, test_size=0.2, shuffle=True)\n",
        "  val_images, test_images, val_annos, test_annos = train_test_split(val_images, val_annos, test_size=0.2, shuffle=True)\n",
        "\n",
        "  return (train_images, train_annos), (val_images, val_annos), (test_images, test_annos)\n"
      ]
    },
    {
      "cell_type": "markdown",
      "metadata": {
        "id": "iPHO1YbTACcu"
      },
      "source": [
        "You can now load the preprocessed dataset and define the training, validation, and test sets."
      ]
    },
    {
      "cell_type": "code",
      "execution_count": 4,
      "metadata": {
        "id": "hIS70_um_Y7n",
        "lines_to_next_cell": 2
      },
      "outputs": [],
      "source": [
        "# Load Dataset\n",
        "train_slices, val_slices, test_slices = load_images_and_segments()\n",
        "\n",
        "# Create training, validation, test datasets.\n",
        "training_dataset = get_training_dataset(train_slices[0], train_slices[1])\n",
        "validation_dataset = get_validation_dataset(val_slices[0], val_slices[1])\n",
        "test_dataset = get_test_dataset(test_slices[0], test_slices[1])"
      ]
    },
    {
      "cell_type": "markdown",
      "metadata": {
        "id": "oKXJYZi7A0dF"
      },
      "source": [
        "## Let's Take a Look at the Dataset\n",
        "\n",
        "You may want to visually inspect the dataset before and after training. Like above, we've included utility functions to help show a few images as well as their annotations (i.e. labels)."
      ]
    },
    {
      "cell_type": "code",
      "execution_count": 5,
      "metadata": {
        "cellView": "both",
        "id": "d46YCbvPafbp"
      },
      "outputs": [],
      "source": [
        "# Visualization Utilities\n",
        "\n",
        "# there are 11 classes in the dataset: one class for each digit (0 to 9) plus the background class\n",
        "n_classes = 11\n",
        "\n",
        "# assign a random color for each class\n",
        "colors = [tuple(np.random.randint(256, size=3) / 255.0) for i in range(n_classes)]\n",
        "\n",
        "def fuse_with_pil(images):\n",
        "  '''\n",
        "  Creates a blank image and pastes input images\n",
        "\n",
        "  Args:\n",
        "    images (list of numpy arrays) - numpy array representations of the images to paste\n",
        "\n",
        "  Returns:\n",
        "    PIL Image object containing the images\n",
        "  '''\n",
        "\n",
        "  widths = (image.shape[1] for image in images)\n",
        "  heights = (image.shape[0] for image in images)\n",
        "  total_width = sum(widths)\n",
        "  max_height = max(heights)\n",
        "\n",
        "  new_im = PIL.Image.new('RGB', (total_width, max_height))\n",
        "\n",
        "  x_offset = 0\n",
        "  for im in images:\n",
        "    pil_image = PIL.Image.fromarray(np.uint8(im))\n",
        "    new_im.paste(pil_image, (x_offset,0))\n",
        "    x_offset += im.shape[1]\n",
        "\n",
        "  return new_im\n",
        "\n",
        "\n",
        "def give_color_to_annotation(annotation):\n",
        "  '''\n",
        "  Converts a 2-D annotation to a numpy array with shape (height, width, 3) where\n",
        "  the third axis represents the color channel. The label values are multiplied by\n",
        "  255 and placed in this axis to give color to the annotation\n",
        "\n",
        "  Args:\n",
        "    annotation (numpy array) - label map array\n",
        "\n",
        "  Returns:\n",
        "    the annotation array with an additional color channel/axis\n",
        "  '''\n",
        "  seg_img = np.zeros( (annotation.shape[0],annotation.shape[1], 3) ).astype('float')\n",
        "\n",
        "  for c in range(n_classes):\n",
        "    segc = (annotation == c)\n",
        "    seg_img[:,:,0] += segc*( colors[c][0] * 255.0)\n",
        "    seg_img[:,:,1] += segc*( colors[c][1] * 255.0)\n",
        "    seg_img[:,:,2] += segc*( colors[c][2] * 255.0)\n",
        "\n",
        "  return seg_img\n",
        "\n",
        "\n",
        "def show_annotation_and_prediction(image, annotation, prediction, iou_list, dice_score_list):\n",
        "  '''\n",
        "  Displays the images with the ground truth and predicted label maps. Also overlays the metrics.\n",
        "\n",
        "  Args:\n",
        "    image (numpy array) -- the input image\n",
        "    annotation (numpy array) -- the ground truth label map\n",
        "    prediction (numpy array) -- the predicted label map\n",
        "    iou_list (list of floats) -- the IOU values for each class\n",
        "    dice_score_list (list of floats) -- the Dice Score for each class\n",
        "  '''\n",
        "\n",
        "  new_ann = np.argmax(annotation, axis=2)\n",
        "  true_img = give_color_to_annotation(new_ann)\n",
        "  pred_img = give_color_to_annotation(prediction)\n",
        "\n",
        "  image = image + 1\n",
        "  image = image * 127.5\n",
        "  image = np.reshape(image, (image.shape[0], image.shape[1],))\n",
        "  image = np.uint8(image)\n",
        "  images = [image, np.uint8(pred_img), np.uint8(true_img)]\n",
        "\n",
        "  metrics_by_id = [(idx, iou, dice_score) for idx, (iou, dice_score) in enumerate(zip(iou_list, dice_score_list)) if iou > 0.0 and idx < 10]\n",
        "  metrics_by_id.sort(key=lambda tup: tup[1], reverse=True)  # sorts in place\n",
        "\n",
        "  display_string_list = [\"{}: IOU: {} Dice Score: {}\".format(idx, iou, dice_score) for idx, iou, dice_score in metrics_by_id]\n",
        "  display_string = \"\\n\".join(display_string_list)\n",
        "\n",
        "  plt.figure(figsize=(15, 4))\n",
        "\n",
        "  for idx, im in enumerate(images):\n",
        "    plt.subplot(1, 3, idx+1)\n",
        "    if idx == 1:\n",
        "      plt.xlabel(display_string)\n",
        "    plt.xticks([])\n",
        "    plt.yticks([])\n",
        "    plt.imshow(im)\n",
        "\n",
        "\n",
        "def show_annotation_and_image(image, annotation):\n",
        "  '''\n",
        "  Displays the image and its annotation side by side\n",
        "\n",
        "  Args:\n",
        "    image (numpy array) -- the input image\n",
        "    annotation (numpy array) -- the label map\n",
        "  '''\n",
        "  new_ann = np.argmax(annotation, axis=2)\n",
        "  seg_img = give_color_to_annotation(new_ann)\n",
        "\n",
        "  image = image + 1\n",
        "  image = image * 127.5\n",
        "  image = np.reshape(image, (image.shape[0], image.shape[1],))\n",
        "\n",
        "  image = np.uint8(image)\n",
        "  images = [image, seg_img]\n",
        "\n",
        "  images = [image, seg_img]\n",
        "  fused_img = fuse_with_pil(images)\n",
        "  plt.imshow(fused_img)\n",
        "\n",
        "\n",
        "def list_show_annotation(dataset, num_images):\n",
        "  '''\n",
        "  Displays images and its annotations side by side\n",
        "\n",
        "  Args:\n",
        "    dataset (tf Dataset) -- batch of images and annotations\n",
        "    num_images (int) -- number of images to display\n",
        "  '''\n",
        "  ds = dataset.unbatch()\n",
        "\n",
        "  plt.figure(figsize=(20, 15))\n",
        "  plt.title(\"Images And Annotations\")\n",
        "  plt.subplots_adjust(bottom=0.1, top=0.9, hspace=0.05)\n",
        "\n",
        "  for idx, (image, annotation) in enumerate(ds.take(num_images)):\n",
        "    plt.subplot(5, 5, idx + 1)\n",
        "    plt.yticks([])\n",
        "    plt.xticks([])\n",
        "    show_annotation_and_image(image.numpy(), annotation.numpy())\n"
      ]
    },
    {
      "cell_type": "markdown",
      "metadata": {
        "id": "hEfyChmKEFKe"
      },
      "source": [
        "You can view a subset of the images from the dataset with the `list_show_annotation()` function defined above. Run the cells below to see the image on the left and its pixel-wise ground truth label map on the right."
      ]
    },
    {
      "cell_type": "code",
      "execution_count": 6,
      "metadata": {
        "id": "AFO_hIhLWYT4",
        "colab": {
          "base_uri": "https://localhost:8080/",
          "height": 319
        },
        "outputId": "7808affe-32b4-46f8-d1d3-9d783a63a82a"
      },
      "outputs": [
        {
          "output_type": "stream",
          "name": "stderr",
          "text": [
            "<ipython-input-5-dc81ed44ba48>:136: MatplotlibDeprecationWarning: Auto-removal of overlapping axes is deprecated since 3.6 and will be removed two minor releases later; explicitly call ax.remove() as needed.\n",
            "  plt.subplot(5, 5, idx + 1)\n"
          ]
        },
        {
          "output_type": "display_data",
          "data": {
            "text/plain": [
              "<Figure size 2000x1500 with 10 Axes>"
            ],
            "image/png": "[encoded data removed]"
          },
          "metadata": {}
        }
      ],
      "source": [
        "# get 10 images from the training set\n",
        "list_show_annotation(training_dataset, 10)"
      ]
    },
    {
      "cell_type": "code",
      "execution_count": 7,
      "metadata": {
        "id": "bdgVkp8wZua0",
        "colab": {
          "base_uri": "https://localhost:8080/",
          "height": 319
        },
        "outputId": "8d9639e0-cb4f-4502-c1c7-799dcdc5eaee"
      },
      "outputs": [
        {
          "output_type": "stream",
          "name": "stderr",
          "text": [
            "<ipython-input-5-dc81ed44ba48>:136: MatplotlibDeprecationWarning: Auto-removal of overlapping axes is deprecated since 3.6 and will be removed two minor releases later; explicitly call ax.remove() as needed.\n",
            "  plt.subplot(5, 5, idx + 1)\n"
          ]
        },
        {
          "output_type": "display_data",
          "data": {
            "text/plain": [
              "<Figure size 2000x1500 with 10 Axes>"
            ],
            "image/png": "[encoded data removed]"
          },
          "metadata": {}
        }
      ],
      "source": [
        "# get 10 images from the validation set\n",
        "list_show_annotation(validation_dataset, 10)"
      ]
    },
    {
      "cell_type": "markdown",
      "metadata": {
        "id": "KkpgIcE2FeKI"
      },
      "source": [
        "You see from the images above the colors assigned to each class (i.e 0 to 9 plus the background). If you don't like these colors, feel free to rerun the cell where `colors` is defined to get another set of random colors. Alternatively, you can assign the RGB values for each class instead of relying on random values."
      ]
    },
    {
      "cell_type": "markdown",
      "metadata": {
        "id": "QFv2k8xabRb8"
      },
      "source": [
        "## Define the Model"
      ]
    },
    {
      "cell_type": "markdown",
      "metadata": {
        "id": "Q_ylpyqJDQiF"
      },
      "source": [
        "As discussed in the lectures, the image segmentation model will have two paths:\n",
        "\n",
        "1. **Downsampling Path** - This part of the network extracts the features in the image. This is done through a series of convolution and pooling layers. The final output is a reduced image (because of the pooling layers) with the extracted features. You will build a custom CNN from scratch for this path.\n",
        "\n",
        "2. **Upsampling Path** - This takes the output of the downsampling path and generates the predictions while also converting the image back to its original size. You will use an FCN-8 decoder for this path."
      ]
    },
    {
      "cell_type": "markdown",
      "metadata": {
        "id": "BHlBUZvsDybt"
      },
      "source": [
        "### Define the Basic Convolution Block"
      ]
    },
    {
      "cell_type": "markdown",
      "metadata": {
        "id": "T-XO9xkN1OR3"
      },
      "source": [
        "<a name='exercise-1'></a>\n",
        "\n",
        "#### **Exercise 1**\n",
        "\n",
        "Please complete the function below to build the basic convolution block for our CNN. This will have two [Conv2D](https://keras.io/api/layers/convolution_layers/convolution2d/) layers each followed by a [LeakyReLU](https://keras.io/api/layers/activation_layers/leaky_relu/), then [max pooled](https://keras.io/api/layers/pooling_layers/max_pooling2d/) and [batch-normalized](https://keras.io/api/layers/normalization_layers/batch_normalization/). Use the functional syntax to stack these layers.\n",
        "\n",
        "$$Input -> Conv2D -> LeakyReLU -> Conv2D -> LeakyReLU -> MaxPooling2D -> BatchNormalization$$\n",
        "\n",
        "When defining the Conv2D layers, note that our data inputs will have the 'channels' dimension last. You may want to check the `data_format` argument in the [docs](https://keras.io/api/layers/convolution_layers/convolution2d/) regarding this. Take note of the `padding` argument too like you did in the ungraded labs.\n",
        "\n",
        "Lastly, to use the `LeakyReLU` activation, you **do not** need to nest it inside an `Activation` layer (e.g. `x = tf.keras.layers.Activation(tf.keras.layers.LeakyReLU()(x)`). You can simply stack the layer directly instead (e.g. `x = tf.keras.layers.LeakyReLU()(x)`)"
      ]
    },
    {
      "cell_type": "code",
      "execution_count": 14,
      "metadata": {
        "id": "azEEVytHR0Kn"
      },
      "outputs": [],
      "source": [
        "# parameter describing where the channel dimension is found in our dataset\n",
        "IMAGE_ORDERING = 'channels_last'\n",
        "\n",
        "def conv_block(input, filters, kernel_size=2, pooling_size=2, pool_strides=2):\n",
        "  '''\n",
        "  Args:\n",
        "    input (tensor) -- batch of images or features\n",
        "    filters (int) -- number of filters of the Conv2D layers\n",
        "    kernel_size (int) -- kernel_size setting of the Conv2D layers\n",
        "    pooling_size (int) -- pooling size of the MaxPooling2D layers\n",
        "    pool_strides (int) -- strides setting of the MaxPooling2D layers\n",
        "\n",
        "  Returns:\n",
        "    (tensor) max pooled and batch-normalized features of the input\n",
        "  '''\n",
        "  ### START CODE HERE ###\n",
        "  # use the functional syntax to stack the layers as shown in the diagram above\n",
        "  x = tf.keras.layers.Conv2D(filters, pool_strides, padding='same', data_format=IMAGE_ORDERING)(input)\n",
        "  x = tf.keras.layers.LeakyReLU()(x)\n",
        "  x = tf.keras.layers.Conv2D(filters, pool_strides,padding='same')(x)\n",
        "  x = tf.keras.layers.LeakyReLU()(x)\n",
        "  x = tf.keras.layers.MaxPooling2D(pool_size=pooling_size,strides=pool_strides)(x)\n",
        "  x = tf.keras.layers.BatchNormalization()(x)\n",
        "  ### END CODE HERE ###\n",
        "\n",
        "  return x"
      ]
    },
    {
      "cell_type": "code",
      "execution_count": 15,
      "metadata": {
        "id": "uGtlHuM6KCRg",
        "colab": {
          "base_uri": "https://localhost:8080/"
        },
        "outputId": "cdcb53ac-789d-49b6-bfcf-d5be7aa72ddd"
      },
      "outputs": [
        {
          "output_type": "stream",
          "name": "stdout",
          "text": [
            "Model: \"model_1\"\n",
            "_________________________________________________________________\n",
            " Layer (type)                Output Shape              Param #   \n",
            "=================================================================\n",
            " input_4 (InputLayer)        [(None, 64, 84, 1)]       0         \n",
            "                                                                 \n",
            " conv2d_2 (Conv2D)           (None, 64, 84, 32)        160       \n",
            "                                                                 \n",
            " leaky_re_lu_2 (LeakyReLU)   (None, 64, 84, 32)        0         \n",
            "                                                                 \n",
            " conv2d_3 (Conv2D)           (None, 64, 84, 32)        4128      \n",
            "                                                                 \n",
            " leaky_re_lu_3 (LeakyReLU)   (None, 64, 84, 32)        0         \n",
            "                                                                 \n",
            " max_pooling2d_1 (MaxPoolin  (None, 32, 42, 32)        0         \n",
            " g2D)                                                            \n",
            "                                                                 \n",
            " batch_normalization_1 (Bat  (None, 32, 42, 32)        128       \n",
            " chNormalization)                                                \n",
            "                                                                 \n",
            "=================================================================\n",
            "Total params: 4416 (17.25 KB)\n",
            "Trainable params: 4352 (17.00 KB)\n",
            "Non-trainable params: 64 (256.00 Byte)\n",
            "_________________________________________________________________\n",
            "None\n"
          ]
        }
      ],
      "source": [
        "# TEST CODE:\n",
        "\n",
        "test_input = tf.keras.layers.Input(shape=(64,84, 1))\n",
        "test_output = conv_block(test_input, 32, 3, 2, 2)\n",
        "test_model = tf.keras.Model(inputs=test_input, outputs=test_output)\n",
        "\n",
        "print(test_model.summary())\n",
        "\n",
        "# free up test resources\n",
        "del test_input, test_output, test_model"
      ]
    },
    {
      "cell_type": "markdown",
      "metadata": {
        "id": "Mmf_ZaMP2rV3"
      },
      "source": [
        "**Expected Output**:\n",
        "\n",
        "Please pay attention to the *(type)* and *Output Shape* columns. The *Layer* name beside the type may be different depending on how many times you ran the cell (e.g. `input_7` can be `input_1`)\n",
        "\n",
        "```txt\n",
        "Model: \"functional_1\"\n",
        "_________________________________________________________________\n",
        "Layer (type)                 Output Shape              Param #   \n",
        "=================================================================\n",
        "input_1 (InputLayer)         [(None, 64, 84, 1)]       0         \n",
        "_________________________________________________________________\n",
        "conv2d (Conv2D)              (None, 64, 84, 32)        320       \n",
        "_________________________________________________________________\n",
        "leaky_re_lu (LeakyReLU)      (None, 64, 84, 32)        0         \n",
        "_________________________________________________________________\n",
        "conv2d_1 (Conv2D)            (None, 64, 84, 32)        9248      \n",
        "_________________________________________________________________\n",
        "leaky_re_lu_1 (LeakyReLU)    (None, 64, 84, 32)        0         \n",
        "_________________________________________________________________\n",
        "max_pooling2d (MaxPooling2D) (None, 32, 42, 32)        0         \n",
        "_________________________________________________________________\n",
        "batch_normalization (BatchNo (None, 32, 42, 32)        128       \n",
        "=================================================================\n",
        "Total params: 9,696\n",
        "Trainable params: 9,632\n",
        "Non-trainable params: 64\n",
        "_________________________________________________________________\n",
        "None\n",
        "```"
      ]
    },
    {
      "cell_type": "markdown",
      "metadata": {
        "id": "4-jJbC91EXTV"
      },
      "source": [
        "### Define the Downsampling Path"
      ]
    },
    {
      "cell_type": "markdown",
      "metadata": {
        "id": "e2ueOTmc3HxJ"
      },
      "source": [
        "<a name='exercise-2'></a>\n",
        "\n",
        "#### **Exercise 2**\n",
        "\n",
        "Now that we've defined the building block of our encoder, you can now build the downsampling path. Please complete the function below to create the encoder. This should chain together five convolution building blocks to create a feature extraction CNN minus the fully connected layers.\n",
        "\n",
        "*Notes*:\n",
        "1. To optimize processing or to make the output dimensions of each layer easier to work with, it is sometimes advisable to apply some zero-padding to the input image. With the boilerplate code we have provided below, we have padded the input width to 96 pixels using the [ZeroPadding2D layer](https://keras.io/api/layers/reshaping_layers/zero_padding2d/). This works well if you're going to use the first ungraded lab of this week as reference. This is not required however. You can remove it later and see how it will affect your parameters. For instance, you might need to pass in a non-square kernel size to the decoder in Exercise 3 (e.g. `(4,5)`) to match the output dimensions of Exercise 2.\n",
        "\n",
        "2. We recommend keeping the pool size and stride parameters constant at 2."
      ]
    },
    {
      "cell_type": "code",
      "execution_count": 16,
      "metadata": {
        "id": "F2VNB99LRwQr"
      },
      "outputs": [],
      "source": [
        "def FCN8(input_height=64, input_width=84):\n",
        "    '''\n",
        "    Defines the downsampling path of the image segmentation model.\n",
        "\n",
        "    Args:\n",
        "      input_height (int) -- height of the images\n",
        "      width (int) -- width of the images\n",
        "\n",
        "    Returns:\n",
        "    (tuple of tensors, tensor)\n",
        "      tuple of tensors -- features extracted at blocks 3 to 5\n",
        "      tensor -- copy of the input\n",
        "    '''\n",
        "\n",
        "    img_input = tf.keras.layers.Input(shape=(input_height,input_width, 1))\n",
        "\n",
        "    ### START CODE HERE ###\n",
        "\n",
        "    # pad the input image to have dimensions to the nearest power of two\n",
        "    x = tf.keras.layers.ZeroPadding2D(padding=(0, 6))(img_input)\n",
        "\n",
        "    # Block 1\n",
        "    x = conv_block(x, 32)\n",
        "\n",
        "    # Block 2\n",
        "    x = conv_block(x, 64)\n",
        "\n",
        "    # Block 3\n",
        "    x = conv_block(x, 128)\n",
        "    # save the feature map at this stage\n",
        "    f3 = x\n",
        "\n",
        "    # Block 4\n",
        "    x = conv_block(x, 256)\n",
        "    # save the feature map at this stage\n",
        "    f4 = x\n",
        "\n",
        "    # Block 5\n",
        "    x = conv_block(x, 256)\n",
        "    # save the feature map at this stage\n",
        "    f5 = x\n",
        "\n",
        "    ### END CODE HERE ###\n",
        "\n",
        "    return (f3, f4, f5), img_input"
      ]
    },
    {
      "cell_type": "code",
      "execution_count": 17,
      "metadata": {
        "id": "HVQm1W0CNICS",
        "colab": {
          "base_uri": "https://localhost:8080/"
        },
        "outputId": "c57c83e2-722e-47ee-fffc-ef13af2b4e3d"
      },
      "outputs": [
        {
          "output_type": "stream",
          "name": "stdout",
          "text": [
            "Model: \"model_2\"\n",
            "_________________________________________________________________\n",
            " Layer (type)                Output Shape              Param #   \n",
            "=================================================================\n",
            " input_5 (InputLayer)        [(None, 64, 84, 1)]       0         \n",
            "                                                                 \n",
            " zero_padding2d_1 (ZeroPadd  (None, 64, 96, 1)         0         \n",
            " ing2D)                                                          \n",
            "                                                                 \n",
            " conv2d_4 (Conv2D)           (None, 64, 96, 32)        160       \n",
            "                                                                 \n",
            " leaky_re_lu_4 (LeakyReLU)   (None, 64, 96, 32)        0         \n",
            "                                                                 \n",
            " conv2d_5 (Conv2D)           (None, 64, 96, 32)        4128      \n",
            "                                                                 \n",
            " leaky_re_lu_5 (LeakyReLU)   (None, 64, 96, 32)        0         \n",
            "                                                                 \n",
            " max_pooling2d_2 (MaxPoolin  (None, 32, 48, 32)        0         \n",
            " g2D)                                                            \n",
            "                                                                 \n",
            " batch_normalization_2 (Bat  (None, 32, 48, 32)        128       \n",
            " chNormalization)                                                \n",
            "                                                                 \n",
            " conv2d_6 (Conv2D)           (None, 32, 48, 64)        8256      \n",
            "                                                                 \n",
            " leaky_re_lu_6 (LeakyReLU)   (None, 32, 48, 64)        0         \n",
            "                                                                 \n",
            " conv2d_7 (Conv2D)           (None, 32, 48, 64)        16448     \n",
            "                                                                 \n",
            " leaky_re_lu_7 (LeakyReLU)   (None, 32, 48, 64)        0         \n",
            "                                                                 \n",
            " max_pooling2d_3 (MaxPoolin  (None, 16, 24, 64)        0         \n",
            " g2D)                                                            \n",
            "                                                                 \n",
            " batch_normalization_3 (Bat  (None, 16, 24, 64)        256       \n",
            " chNormalization)                                                \n",
            "                                                                 \n",
            " conv2d_8 (Conv2D)           (None, 16, 24, 128)       32896     \n",
            "                                                                 \n",
            " leaky_re_lu_8 (LeakyReLU)   (None, 16, 24, 128)       0         \n",
            "                                                                 \n",
            " conv2d_9 (Conv2D)           (None, 16, 24, 128)       65664     \n",
            "                                                                 \n",
            " leaky_re_lu_9 (LeakyReLU)   (None, 16, 24, 128)       0         \n",
            "                                                                 \n",
            " max_pooling2d_4 (MaxPoolin  (None, 8, 12, 128)        0         \n",
            " g2D)                                                            \n",
            "                                                                 \n",
            " batch_normalization_4 (Bat  (None, 8, 12, 128)        512       \n",
            " chNormalization)                                                \n",
            "                                                                 \n",
            " conv2d_10 (Conv2D)          (None, 8, 12, 256)        131328    \n",
            "                                                                 \n",
            " leaky_re_lu_10 (LeakyReLU)  (None, 8, 12, 256)        0         \n",
            "                                                                 \n",
            " conv2d_11 (Conv2D)          (None, 8, 12, 256)        262400    \n",
            "                                                                 \n",
            " leaky_re_lu_11 (LeakyReLU)  (None, 8, 12, 256)        0         \n",
            "                                                                 \n",
            " max_pooling2d_5 (MaxPoolin  (None, 4, 6, 256)         0         \n",
            " g2D)                                                            \n",
            "                                                                 \n",
            " batch_normalization_5 (Bat  (None, 4, 6, 256)         1024      \n",
            " chNormalization)                                                \n",
            "                                                                 \n",
            " conv2d_12 (Conv2D)          (None, 4, 6, 256)         262400    \n",
            "                                                                 \n",
            " leaky_re_lu_12 (LeakyReLU)  (None, 4, 6, 256)         0         \n",
            "                                                                 \n",
            " conv2d_13 (Conv2D)          (None, 4, 6, 256)         262400    \n",
            "                                                                 \n",
            " leaky_re_lu_13 (LeakyReLU)  (None, 4, 6, 256)         0         \n",
            "                                                                 \n",
            " max_pooling2d_6 (MaxPoolin  (None, 2, 3, 256)         0         \n",
            " g2D)                                                            \n",
            "                                                                 \n",
            " batch_normalization_6 (Bat  (None, 2, 3, 256)         1024      \n",
            " chNormalization)                                                \n",
            "                                                                 \n",
            "=================================================================\n",
            "Total params: 1049024 (4.00 MB)\n",
            "Trainable params: 1047552 (4.00 MB)\n",
            "Non-trainable params: 1472 (5.75 KB)\n",
            "_________________________________________________________________\n",
            "None\n"
          ]
        }
      ],
      "source": [
        "# TEST CODE:\n",
        "\n",
        "test_convs, test_img_input = FCN8()\n",
        "test_model = tf.keras.Model(inputs=test_img_input, outputs=[test_convs, test_img_input])\n",
        "\n",
        "print(test_model.summary())\n",
        "\n",
        "del test_convs, test_img_input, test_model"
      ]
    },
    {
      "cell_type": "markdown",
      "metadata": {
        "id": "sxklZe_D3jOI"
      },
      "source": [
        "**Expected Output**:\n",
        "\n",
        "You should see the layers of your `conv_block()` being repeated 5 times like the output below.\n",
        "\n",
        "```txt\n",
        "Model: \"functional_3\"\n",
        "_________________________________________________________________\n",
        "Layer (type)                 Output Shape              Param #   \n",
        "=================================================================\n",
        "input_3 (InputLayer)         [(None, 64, 84, 1)]       0         \n",
        "_________________________________________________________________\n",
        "zero_padding2d (ZeroPadding2 (None, 64, 96, 1)         0         \n",
        "_________________________________________________________________\n",
        "conv2d_2 (Conv2D)            (None, 64, 96, 32)        320       \n",
        "_________________________________________________________________\n",
        "leaky_re_lu_2 (LeakyReLU)    (None, 64, 96, 32)        0         \n",
        "_________________________________________________________________\n",
        "conv2d_3 (Conv2D)            (None, 64, 96, 32)        9248      \n",
        "_________________________________________________________________\n",
        "leaky_re_lu_3 (LeakyReLU)    (None, 64, 96, 32)        0         \n",
        "_________________________________________________________________\n",
        "max_pooling2d_1 (MaxPooling2 (None, 32, 48, 32)        0         \n",
        "_________________________________________________________________\n",
        "batch_normalization_1 (Batch (None, 32, 48, 32)        128       \n",
        "_________________________________________________________________\n",
        "conv2d_4 (Conv2D)            (None, 32, 48, 64)        18496     \n",
        "_________________________________________________________________\n",
        "leaky_re_lu_4 (LeakyReLU)    (None, 32, 48, 64)        0         \n",
        "_________________________________________________________________\n",
        "conv2d_5 (Conv2D)            (None, 32, 48, 64)        36928     \n",
        "_________________________________________________________________\n",
        "leaky_re_lu_5 (LeakyReLU)    (None, 32, 48, 64)        0         \n",
        "_________________________________________________________________\n",
        "max_pooling2d_2 (MaxPooling2 (None, 16, 24, 64)        0         \n",
        "_________________________________________________________________\n",
        "batch_normalization_2 (Batch (None, 16, 24, 64)        256       \n",
        "_________________________________________________________________\n",
        "conv2d_6 (Conv2D)            (None, 16, 24, 128)       73856     \n",
        "_________________________________________________________________\n",
        "leaky_re_lu_6 (LeakyReLU)    (None, 16, 24, 128)       0         \n",
        "_________________________________________________________________\n",
        "conv2d_7 (Conv2D)            (None, 16, 24, 128)       147584    \n",
        "_________________________________________________________________\n",
        "leaky_re_lu_7 (LeakyReLU)    (None, 16, 24, 128)       0         \n",
        "_________________________________________________________________\n",
        "max_pooling2d_3 (MaxPooling2 (None, 8, 12, 128)        0         \n",
        "_________________________________________________________________\n",
        "batch_normalization_3 (Batch (None, 8, 12, 128)        512       \n",
        "_________________________________________________________________\n",
        "conv2d_8 (Conv2D)            (None, 8, 12, 256)        295168    \n",
        "_________________________________________________________________\n",
        "leaky_re_lu_8 (LeakyReLU)    (None, 8, 12, 256)        0         \n",
        "_________________________________________________________________\n",
        "conv2d_9 (Conv2D)            (None, 8, 12, 256)        590080    \n",
        "_________________________________________________________________\n",
        "leaky_re_lu_9 (LeakyReLU)    (None, 8, 12, 256)        0         \n",
        "_________________________________________________________________\n",
        "max_pooling2d_4 (MaxPooling2 (None, 4, 6, 256)         0         \n",
        "_________________________________________________________________\n",
        "batch_normalization_4 (Batch (None, 4, 6, 256)         1024      \n",
        "_________________________________________________________________\n",
        "conv2d_10 (Conv2D)           (None, 4, 6, 256)         590080    \n",
        "_________________________________________________________________\n",
        "leaky_re_lu_10 (LeakyReLU)   (None, 4, 6, 256)         0         \n",
        "_________________________________________________________________\n",
        "conv2d_11 (Conv2D)           (None, 4, 6, 256)         590080    \n",
        "_________________________________________________________________\n",
        "leaky_re_lu_11 (LeakyReLU)   (None, 4, 6, 256)         0         \n",
        "_________________________________________________________________\n",
        "max_pooling2d_5 (MaxPooling2 (None, 2, 3, 256)         0         \n",
        "_________________________________________________________________\n",
        "batch_normalization_5 (Batch (None, 2, 3, 256)         1024      \n",
        "=================================================================\n",
        "Total params: 2,354,784\n",
        "Trainable params: 2,353,312\n",
        "Non-trainable params: 1,472\n",
        "_________________________________________________________________\n",
        "None\n",
        "```"
      ]
    },
    {
      "cell_type": "markdown",
      "metadata": {
        "id": "LbjYEQU8Eq-T"
      },
      "source": [
        "### Define the FCN-8 decoder"
      ]
    },
    {
      "cell_type": "markdown",
      "metadata": {
        "id": "Ux5nAU155E5O"
      },
      "source": [
        "<a name='exercise-3'></a>\n",
        "\n",
        "#### **Exercise 3**\n",
        "\n",
        "Now you can define the upsampling path taking the outputs of convolutions at each stage as arguments. This will be very similar to what you did in the ungraded lab (VGG16-FCN8-CamVid) so you can refer to it if you need a refresher.\n",
        "* Note: remember to set the `data_format` parameter for the Conv2D layers.\n",
        "\n",
        "Here is also the diagram you saw in class on how it should work:\n",
        "\n",
        "<img src='https://drive.google.com/uc?export=view&id=1lrqB4YegV8jXWNfyYAaeuFlwXIc54aRP' alt='fcn-8'>"
      ]
    },
    {
      "cell_type": "code",
      "execution_count": 18,
      "metadata": {
        "id": "giYEct_Se5Xj"
      },
      "outputs": [],
      "source": [
        "def fcn8_decoder(convs, n_classes):\n",
        "  # features from the encoder stage\n",
        "  f3, f4, f5 = convs\n",
        "\n",
        "  # number of filters\n",
        "  n = 512\n",
        "\n",
        "  # add convolutional layers on top of the CNN extractor.\n",
        "  o = tf.keras.layers.Conv2D(n , (7 , 7) , activation='relu' , padding='same', name=\"conv6\", data_format=IMAGE_ORDERING)(f5)\n",
        "  o = tf.keras.layers.Dropout(0.5)(o)\n",
        "\n",
        "  o = tf.keras.layers.Conv2D(n , (1 , 1) , activation='relu' , padding='same', name=\"conv7\", data_format=IMAGE_ORDERING)(o)\n",
        "  o = tf.keras.layers.Dropout(0.5)(o)\n",
        "\n",
        "  o = tf.keras.layers.Conv2D(n_classes,  (1, 1), activation='relu' , padding='same', data_format=IMAGE_ORDERING)(o)\n",
        "\n",
        "\n",
        "  ### START CODE HERE ###\n",
        "\n",
        "  # Upsample `o` above and crop any extra pixels introduced\n",
        "  o = tf.keras.layers.Conv2DTranspose(n_classes, kernel_size = (4,4), strides = (2,2))(f5)\n",
        "  o = tf.keras.layers.Cropping2D(cropping = (1,1))(o)\n",
        "\n",
        "  # load the pool 4 prediction and do a 1x1 convolution to reshape it to the same shape of `o` above\n",
        "  o2 = f4\n",
        "  o2 = tf.keras.layers.Conv2D(n_classes, kernel_size=(1,1), activation='relu', padding='same', data_format=IMAGE_ORDERING)(o2)\n",
        "\n",
        "  # add the results of the upsampling and pool 4 prediction\n",
        "  o = tf.keras.layers.Add()([o,o2])\n",
        "\n",
        "  # upsample the resulting tensor of the operation you just did\n",
        "  o = tf.keras.layers.Conv2DTranspose(n_classes, kernel_size=(4,4), strides = (2,2))(o)\n",
        "  o = tf.keras.layers.Cropping2D(cropping = (1,1))(o)\n",
        "\n",
        "  # load the pool 3 prediction and do a 1x1 convolution to reshape it to the same shape of `o` above\n",
        "  o2 = f3\n",
        "  o2 = tf.keras.layers.Conv2D(n_classes , ( 1 , 1 ) , activation='relu' , padding='same', data_format=IMAGE_ORDERING)(o2)\n",
        "\n",
        "  # add the results of the upsampling and pool 3 prediction\n",
        "  o = tf.keras.layers.Add()([o, o2])\n",
        "\n",
        "  # upsample up to the size of the original image\n",
        "  o = tf.keras.layers.Conv2DTranspose(n_classes, kernel_size=(8,8), strides = (8,8))(o)\n",
        "  o = tf.keras.layers.Cropping2D(((0, 0), (0, 96-84)))(o)\n",
        "\n",
        "  # append a sigmoid activation\n",
        "  o = (tf.keras.layers.Activation('softmax'))(o)\n",
        "  ### END CODE HERE ###\n",
        "\n",
        "  return o"
      ]
    },
    {
      "cell_type": "code",
      "execution_count": 19,
      "metadata": {
        "id": "lQHioDlR5K1_",
        "colab": {
          "base_uri": "https://localhost:8080/"
        },
        "outputId": "71192c9d-2d08-4e3f-abd9-09372df68255"
      },
      "outputs": [
        {
          "output_type": "stream",
          "name": "stdout",
          "text": [
            "(None, 64, 84, 11)\n"
          ]
        }
      ],
      "source": [
        "# TEST CODE\n",
        "\n",
        "test_convs, test_img_input = FCN8()\n",
        "test_fcn8_decoder = fcn8_decoder(test_convs, 11)\n",
        "\n",
        "print(test_fcn8_decoder.shape)\n",
        "\n",
        "del test_convs, test_img_input, test_fcn8_decoder"
      ]
    },
    {
      "cell_type": "markdown",
      "metadata": {
        "id": "C1qTwTX-5fwH"
      },
      "source": [
        "**Expected Output:**\n",
        "\n",
        "```txt\n",
        "(None, 64, 84, 11)\n",
        "```"
      ]
    },
    {
      "cell_type": "markdown",
      "metadata": {
        "id": "cJOhQz86Qk6n"
      },
      "source": [
        "### Define the Complete Model\n",
        "\n",
        "The downsampling and upsampling paths can now be combined as shown below."
      ]
    },
    {
      "cell_type": "code",
      "execution_count": 20,
      "metadata": {
        "id": "9EJEf484312h",
        "lines_to_next_cell": 2
      },
      "outputs": [],
      "source": [
        "# start the encoder using the default input size 64 x 84\n",
        "convs, img_input = FCN8()\n",
        "\n",
        "# pass the convolutions obtained in the encoder to the decoder\n",
        "dec_op = fcn8_decoder(convs, n_classes)\n",
        "\n",
        "# define the model specifying the input (batch of images) and output (decoder output)\n",
        "model = tf.keras.Model(inputs = img_input, outputs = dec_op)"
      ]
    },
    {
      "cell_type": "code",
      "execution_count": 21,
      "metadata": {
        "id": "2GAenp1M4gXx",
        "colab": {
          "base_uri": "https://localhost:8080/"
        },
        "outputId": "b9698ca1-cc75-4fcf-d084-5cb8b2316535"
      },
      "outputs": [
        {
          "output_type": "stream",
          "name": "stdout",
          "text": [
            "Model: \"model_3\"\n",
            "__________________________________________________________________________________________________\n",
            " Layer (type)                Output Shape                 Param #   Connected to                  \n",
            "==================================================================================================\n",
            " input_7 (InputLayer)        [(None, 64, 84, 1)]          0         []                            \n",
            "                                                                                                  \n",
            " zero_padding2d_3 (ZeroPadd  (None, 64, 96, 1)            0         ['input_7[0][0]']             \n",
            " ing2D)                                                                                           \n",
            "                                                                                                  \n",
            " conv2d_27 (Conv2D)          (None, 64, 96, 32)           160       ['zero_padding2d_3[0][0]']    \n",
            "                                                                                                  \n",
            " leaky_re_lu_24 (LeakyReLU)  (None, 64, 96, 32)           0         ['conv2d_27[0][0]']           \n",
            "                                                                                                  \n",
            " conv2d_28 (Conv2D)          (None, 64, 96, 32)           4128      ['leaky_re_lu_24[0][0]']      \n",
            "                                                                                                  \n",
            " leaky_re_lu_25 (LeakyReLU)  (None, 64, 96, 32)           0         ['conv2d_28[0][0]']           \n",
            "                                                                                                  \n",
            " max_pooling2d_12 (MaxPooli  (None, 32, 48, 32)           0         ['leaky_re_lu_25[0][0]']      \n",
            " ng2D)                                                                                            \n",
            "                                                                                                  \n",
            " batch_normalization_12 (Ba  (None, 32, 48, 32)           128       ['max_pooling2d_12[0][0]']    \n",
            " tchNormalization)                                                                                \n",
            "                                                                                                  \n",
            " conv2d_29 (Conv2D)          (None, 32, 48, 64)           8256      ['batch_normalization_12[0][0]\n",
            "                                                                    ']                            \n",
            "                                                                                                  \n",
            " leaky_re_lu_26 (LeakyReLU)  (None, 32, 48, 64)           0         ['conv2d_29[0][0]']           \n",
            "                                                                                                  \n",
            " conv2d_30 (Conv2D)          (None, 32, 48, 64)           16448     ['leaky_re_lu_26[0][0]']      \n",
            "                                                                                                  \n",
            " leaky_re_lu_27 (LeakyReLU)  (None, 32, 48, 64)           0         ['conv2d_30[0][0]']           \n",
            "                                                                                                  \n",
            " max_pooling2d_13 (MaxPooli  (None, 16, 24, 64)           0         ['leaky_re_lu_27[0][0]']      \n",
            " ng2D)                                                                                            \n",
            "                                                                                                  \n",
            " batch_normalization_13 (Ba  (None, 16, 24, 64)           256       ['max_pooling2d_13[0][0]']    \n",
            " tchNormalization)                                                                                \n",
            "                                                                                                  \n",
            " conv2d_31 (Conv2D)          (None, 16, 24, 128)          32896     ['batch_normalization_13[0][0]\n",
            "                                                                    ']                            \n",
            "                                                                                                  \n",
            " leaky_re_lu_28 (LeakyReLU)  (None, 16, 24, 128)          0         ['conv2d_31[0][0]']           \n",
            "                                                                                                  \n",
            " conv2d_32 (Conv2D)          (None, 16, 24, 128)          65664     ['leaky_re_lu_28[0][0]']      \n",
            "                                                                                                  \n",
            " leaky_re_lu_29 (LeakyReLU)  (None, 16, 24, 128)          0         ['conv2d_32[0][0]']           \n",
            "                                                                                                  \n",
            " max_pooling2d_14 (MaxPooli  (None, 8, 12, 128)           0         ['leaky_re_lu_29[0][0]']      \n",
            " ng2D)                                                                                            \n",
            "                                                                                                  \n",
            " batch_normalization_14 (Ba  (None, 8, 12, 128)           512       ['max_pooling2d_14[0][0]']    \n",
            " tchNormalization)                                                                                \n",
            "                                                                                                  \n",
            " conv2d_33 (Conv2D)          (None, 8, 12, 256)           131328    ['batch_normalization_14[0][0]\n",
            "                                                                    ']                            \n",
            "                                                                                                  \n",
            " leaky_re_lu_30 (LeakyReLU)  (None, 8, 12, 256)           0         ['conv2d_33[0][0]']           \n",
            "                                                                                                  \n",
            " conv2d_34 (Conv2D)          (None, 8, 12, 256)           262400    ['leaky_re_lu_30[0][0]']      \n",
            "                                                                                                  \n",
            " leaky_re_lu_31 (LeakyReLU)  (None, 8, 12, 256)           0         ['conv2d_34[0][0]']           \n",
            "                                                                                                  \n",
            " max_pooling2d_15 (MaxPooli  (None, 4, 6, 256)            0         ['leaky_re_lu_31[0][0]']      \n",
            " ng2D)                                                                                            \n",
            "                                                                                                  \n",
            " batch_normalization_15 (Ba  (None, 4, 6, 256)            1024      ['max_pooling2d_15[0][0]']    \n",
            " tchNormalization)                                                                                \n",
            "                                                                                                  \n",
            " conv2d_35 (Conv2D)          (None, 4, 6, 256)            262400    ['batch_normalization_15[0][0]\n",
            "                                                                    ']                            \n",
            "                                                                                                  \n",
            " leaky_re_lu_32 (LeakyReLU)  (None, 4, 6, 256)            0         ['conv2d_35[0][0]']           \n",
            "                                                                                                  \n",
            " conv2d_36 (Conv2D)          (None, 4, 6, 256)            262400    ['leaky_re_lu_32[0][0]']      \n",
            "                                                                                                  \n",
            " leaky_re_lu_33 (LeakyReLU)  (None, 4, 6, 256)            0         ['conv2d_36[0][0]']           \n",
            "                                                                                                  \n",
            " max_pooling2d_16 (MaxPooli  (None, 2, 3, 256)            0         ['leaky_re_lu_33[0][0]']      \n",
            " ng2D)                                                                                            \n",
            "                                                                                                  \n",
            " batch_normalization_16 (Ba  (None, 2, 3, 256)            1024      ['max_pooling2d_16[0][0]']    \n",
            " tchNormalization)                                                                                \n",
            "                                                                                                  \n",
            " conv2d_transpose_3 (Conv2D  (None, 6, 8, 11)             45067     ['batch_normalization_16[0][0]\n",
            " Transpose)                                                         ']                            \n",
            "                                                                                                  \n",
            " cropping2d_3 (Cropping2D)   (None, 4, 6, 11)             0         ['conv2d_transpose_3[0][0]']  \n",
            "                                                                                                  \n",
            " conv2d_38 (Conv2D)          (None, 4, 6, 11)             2827      ['batch_normalization_15[0][0]\n",
            "                                                                    ']                            \n",
            "                                                                                                  \n",
            " add_2 (Add)                 (None, 4, 6, 11)             0         ['cropping2d_3[0][0]',        \n",
            "                                                                     'conv2d_38[0][0]']           \n",
            "                                                                                                  \n",
            " conv2d_transpose_4 (Conv2D  (None, 10, 14, 11)           1947      ['add_2[0][0]']               \n",
            " Transpose)                                                                                       \n",
            "                                                                                                  \n",
            " cropping2d_4 (Cropping2D)   (None, 8, 12, 11)            0         ['conv2d_transpose_4[0][0]']  \n",
            "                                                                                                  \n",
            " conv2d_39 (Conv2D)          (None, 8, 12, 11)            1419      ['batch_normalization_14[0][0]\n",
            "                                                                    ']                            \n",
            "                                                                                                  \n",
            " add_3 (Add)                 (None, 8, 12, 11)            0         ['cropping2d_4[0][0]',        \n",
            "                                                                     'conv2d_39[0][0]']           \n",
            "                                                                                                  \n",
            " conv2d_transpose_5 (Conv2D  (None, 64, 96, 11)           7755      ['add_3[0][0]']               \n",
            " Transpose)                                                                                       \n",
            "                                                                                                  \n",
            " cropping2d_5 (Cropping2D)   (None, 64, 84, 11)           0         ['conv2d_transpose_5[0][0]']  \n",
            "                                                                                                  \n",
            " activation_1 (Activation)   (None, 64, 84, 11)           0         ['cropping2d_5[0][0]']        \n",
            "                                                                                                  \n",
            "==================================================================================================\n",
            "Total params: 1108039 (4.23 MB)\n",
            "Trainable params: 1106567 (4.22 MB)\n",
            "Non-trainable params: 1472 (5.75 KB)\n",
            "__________________________________________________________________________________________________\n"
          ]
        }
      ],
      "source": [
        "model.summary()"
      ]
    },
    {
      "cell_type": "markdown",
      "metadata": {
        "id": "wAAXygZtbZmu"
      },
      "source": [
        "## Compile the Model"
      ]
    },
    {
      "cell_type": "markdown",
      "metadata": {
        "id": "sC-9m1R_5tjV"
      },
      "source": [
        "<a name='exercise-4'></a>\n",
        "\n",
        "### **Exercise 4**\n",
        "\n",
        "Compile the model using an appropriate loss, optimizer, and metric.\n",
        "\n",
        "_**Note:** There is a current issue with the grader accepting certain loss functions. We will be upgrading it but while in progress, please use this syntax:_\n",
        "\n",
        "```\n",
        "loss='<loss string name>'\n",
        "```\n",
        "\n",
        "*instead of:*\n",
        "\n",
        "```\n",
        "loss=tf.keras.losses.<StringCassName>\n",
        "```\n",
        "\n"
      ]
    },
    {
      "cell_type": "code",
      "execution_count": 22,
      "metadata": {
        "id": "ZpWpp8h4g_rE",
        "colab": {
          "base_uri": "https://localhost:8080/"
        },
        "outputId": "2c8a5661-0265-4cbf-94c9-d1ffe642442f"
      },
      "outputs": [
        {
          "output_type": "stream",
          "name": "stderr",
          "text": [
            "WARNING:absl:`lr` is deprecated in Keras optimizer, please use `learning_rate` or use the legacy optimizer, e.g.,tf.keras.optimizers.legacy.SGD.\n"
          ]
        }
      ],
      "source": [
        "### START CODE HERE ###\n",
        "model.compile(loss='categorical_crossentropy', optimizer=tf.keras.optimizers.SGD(lr=1E-2, momentum=0.9, nesterov=True),\n",
        "              metrics=['accuracy'])\n",
        "### END CODE HERE ###"
      ]
    },
    {
      "cell_type": "markdown",
      "metadata": {
        "id": "510v0aVDXv1f"
      },
      "source": [
        "## Model Training"
      ]
    },
    {
      "cell_type": "markdown",
      "metadata": {
        "id": "1udK8qps6PcG"
      },
      "source": [
        "<a name='exercise-5'></a>\n",
        "\n",
        "### **Exercise 5**\n",
        "\n",
        "You can now train the model. Set the number of epochs and observe the metrics returned at each iteration. You can also terminate the cell execution if you think your model is performing well already."
      ]
    },
    {
      "cell_type": "code",
      "execution_count": 42,
      "metadata": {
        "id": "8HoZwpGWhMB-",
        "colab": {
          "base_uri": "https://localhost:8080/"
        },
        "outputId": "b893ea4a-3d92-471b-b782-542e50abe221"
      },
      "outputs": [
        {
          "output_type": "stream",
          "name": "stdout",
          "text": [
            "Epoch 1/150\n",
            "125/125 [==============================] - 2s 12ms/step - loss: 0.0434 - accuracy: 0.9837 - val_loss: 0.0624 - val_accuracy: 0.9777\n",
            "Epoch 2/150\n",
            "125/125 [==============================] - 2s 12ms/step - loss: 0.0429 - accuracy: 0.9838 - val_loss: 0.0629 - val_accuracy: 0.9781\n",
            "Epoch 3/150\n",
            "125/125 [==============================] - 2s 12ms/step - loss: 0.0426 - accuracy: 0.9839 - val_loss: 0.0697 - val_accuracy: 0.9762\n",
            "Epoch 4/150\n",
            "125/125 [==============================] - 2s 13ms/step - loss: 0.0423 - accuracy: 0.9840 - val_loss: 0.0621 - val_accuracy: 0.9780\n",
            "Epoch 5/150\n",
            "125/125 [==============================] - 2s 12ms/step - loss: 0.0422 - accuracy: 0.9840 - val_loss: 0.0622 - val_accuracy: 0.9779\n",
            "Epoch 6/150\n",
            "125/125 [==============================] - 2s 12ms/step - loss: 0.0417 - accuracy: 0.9842 - val_loss: 0.0617 - val_accuracy: 0.9782\n",
            "Epoch 7/150\n",
            "125/125 [==============================] - 2s 12ms/step - loss: 0.0417 - accuracy: 0.9842 - val_loss: 0.0631 - val_accuracy: 0.9781\n",
            "Epoch 8/150\n",
            "125/125 [==============================] - 2s 12ms/step - loss: 0.0414 - accuracy: 0.9843 - val_loss: 0.0623 - val_accuracy: 0.9778\n",
            "Epoch 9/150\n",
            "125/125 [==============================] - 2s 12ms/step - loss: 0.0408 - accuracy: 0.9845 - val_loss: 0.0616 - val_accuracy: 0.9781\n",
            "Epoch 10/150\n",
            "125/125 [==============================] - 2s 12ms/step - loss: 0.0408 - accuracy: 0.9845 - val_loss: 0.0612 - val_accuracy: 0.9783\n",
            "Epoch 11/150\n",
            "125/125 [==============================] - 2s 13ms/step - loss: 0.0405 - accuracy: 0.9846 - val_loss: 0.0640 - val_accuracy: 0.9777\n",
            "Epoch 12/150\n",
            "125/125 [==============================] - 2s 13ms/step - loss: 0.0403 - accuracy: 0.9846 - val_loss: 0.0605 - val_accuracy: 0.9786\n",
            "Epoch 13/150\n",
            "125/125 [==============================] - 2s 12ms/step - loss: 0.0401 - accuracy: 0.9847 - val_loss: 0.0610 - val_accuracy: 0.9786\n",
            "Epoch 14/150\n",
            "125/125 [==============================] - 2s 12ms/step - loss: 0.0397 - accuracy: 0.9848 - val_loss: 0.0628 - val_accuracy: 0.9783\n",
            "Epoch 15/150\n",
            "125/125 [==============================] - 2s 12ms/step - loss: 0.0396 - accuracy: 0.9849 - val_loss: 0.0625 - val_accuracy: 0.9778\n",
            "Epoch 16/150\n",
            "125/125 [==============================] - 2s 13ms/step - loss: 0.0396 - accuracy: 0.9849 - val_loss: 0.0604 - val_accuracy: 0.9787\n",
            "Epoch 17/150\n",
            "125/125 [==============================] - 2s 12ms/step - loss: 0.0392 - accuracy: 0.9850 - val_loss: 0.0604 - val_accuracy: 0.9787\n",
            "Epoch 18/150\n",
            "125/125 [==============================] - 2s 12ms/step - loss: 0.0388 - accuracy: 0.9851 - val_loss: 0.0607 - val_accuracy: 0.9785\n",
            "Epoch 19/150\n",
            "125/125 [==============================] - 2s 13ms/step - loss: 0.0387 - accuracy: 0.9852 - val_loss: 0.0609 - val_accuracy: 0.9785\n",
            "Epoch 20/150\n",
            "125/125 [==============================] - 2s 12ms/step - loss: 0.0386 - accuracy: 0.9852 - val_loss: 0.0609 - val_accuracy: 0.9789\n",
            "Epoch 21/150\n",
            "125/125 [==============================] - 2s 13ms/step - loss: 0.0384 - accuracy: 0.9853 - val_loss: 0.0598 - val_accuracy: 0.9789\n",
            "Epoch 22/150\n",
            "125/125 [==============================] - 2s 12ms/step - loss: 0.0382 - accuracy: 0.9854 - val_loss: 0.0599 - val_accuracy: 0.9791\n",
            "Epoch 23/150\n",
            "125/125 [==============================] - 2s 12ms/step - loss: 0.0380 - accuracy: 0.9854 - val_loss: 0.0601 - val_accuracy: 0.9788\n",
            "Epoch 24/150\n",
            "125/125 [==============================] - 2s 12ms/step - loss: 0.0377 - accuracy: 0.9855 - val_loss: 0.0595 - val_accuracy: 0.9789\n",
            "Epoch 25/150\n",
            "125/125 [==============================] - 2s 12ms/step - loss: 0.0377 - accuracy: 0.9855 - val_loss: 0.0590 - val_accuracy: 0.9791\n",
            "Epoch 26/150\n",
            "125/125 [==============================] - 2s 12ms/step - loss: 0.0373 - accuracy: 0.9856 - val_loss: 0.0596 - val_accuracy: 0.9790\n",
            "Epoch 27/150\n",
            "125/125 [==============================] - 2s 13ms/step - loss: 0.0372 - accuracy: 0.9857 - val_loss: 0.0589 - val_accuracy: 0.9792\n",
            "Epoch 28/150\n",
            "125/125 [==============================] - 2s 12ms/step - loss: 0.0371 - accuracy: 0.9857 - val_loss: 0.0594 - val_accuracy: 0.9792\n",
            "Epoch 29/150\n",
            "125/125 [==============================] - 2s 13ms/step - loss: 0.0369 - accuracy: 0.9858 - val_loss: 0.0632 - val_accuracy: 0.9784\n",
            "Epoch 30/150\n",
            "125/125 [==============================] - 2s 12ms/step - loss: 0.0367 - accuracy: 0.9858 - val_loss: 0.0619 - val_accuracy: 0.9787\n",
            "Epoch 31/150\n",
            "125/125 [==============================] - 2s 13ms/step - loss: 0.0366 - accuracy: 0.9859 - val_loss: 0.0592 - val_accuracy: 0.9794\n",
            "Epoch 32/150\n",
            "125/125 [==============================] - 2s 12ms/step - loss: 0.0364 - accuracy: 0.9860 - val_loss: 0.0597 - val_accuracy: 0.9792\n",
            "Epoch 33/150\n",
            "125/125 [==============================] - 2s 12ms/step - loss: 0.0362 - accuracy: 0.9860 - val_loss: 0.0630 - val_accuracy: 0.9789\n",
            "Epoch 34/150\n",
            "125/125 [==============================] - 2s 13ms/step - loss: 0.0361 - accuracy: 0.9861 - val_loss: 0.0602 - val_accuracy: 0.9788\n",
            "Epoch 35/150\n",
            "125/125 [==============================] - 2s 12ms/step - loss: 0.0359 - accuracy: 0.9861 - val_loss: 0.0580 - val_accuracy: 0.9796\n",
            "Epoch 36/150\n",
            "125/125 [==============================] - 2s 13ms/step - loss: 0.0358 - accuracy: 0.9862 - val_loss: 0.0584 - val_accuracy: 0.9795\n",
            "Epoch 37/150\n",
            "125/125 [==============================] - 2s 13ms/step - loss: 0.0356 - accuracy: 0.9862 - val_loss: 0.0593 - val_accuracy: 0.9796\n",
            "Epoch 38/150\n",
            "125/125 [==============================] - 2s 12ms/step - loss: 0.0356 - accuracy: 0.9863 - val_loss: 0.0583 - val_accuracy: 0.9796\n",
            "Epoch 39/150\n",
            "125/125 [==============================] - 2s 12ms/step - loss: 0.0352 - accuracy: 0.9864 - val_loss: 0.0585 - val_accuracy: 0.9795\n",
            "Epoch 40/150\n",
            "125/125 [==============================] - 2s 12ms/step - loss: 0.0353 - accuracy: 0.9863 - val_loss: 0.0580 - val_accuracy: 0.9794\n",
            "Epoch 41/150\n",
            "125/125 [==============================] - 2s 12ms/step - loss: 0.0351 - accuracy: 0.9864 - val_loss: 0.0617 - val_accuracy: 0.9791\n",
            "Epoch 42/150\n",
            "125/125 [==============================] - 2s 13ms/step - loss: 0.0350 - accuracy: 0.9865 - val_loss: 0.0582 - val_accuracy: 0.9797\n",
            "Epoch 43/150\n",
            "125/125 [==============================] - 2s 12ms/step - loss: 0.0348 - accuracy: 0.9865 - val_loss: 0.0598 - val_accuracy: 0.9791\n",
            "Epoch 44/150\n",
            "125/125 [==============================] - 2s 12ms/step - loss: 0.0346 - accuracy: 0.9866 - val_loss: 0.0577 - val_accuracy: 0.9799\n",
            "Epoch 45/150\n",
            "125/125 [==============================] - 2s 12ms/step - loss: 0.0347 - accuracy: 0.9866 - val_loss: 0.0614 - val_accuracy: 0.9793\n",
            "Epoch 46/150\n",
            "125/125 [==============================] - 2s 12ms/step - loss: 0.0343 - accuracy: 0.9867 - val_loss: 0.0584 - val_accuracy: 0.9798\n",
            "Epoch 47/150\n",
            "125/125 [==============================] - 2s 12ms/step - loss: 0.0344 - accuracy: 0.9867 - val_loss: 0.0580 - val_accuracy: 0.9797\n",
            "Epoch 48/150\n",
            "125/125 [==============================] - 2s 12ms/step - loss: 0.0343 - accuracy: 0.9867 - val_loss: 0.0619 - val_accuracy: 0.9791\n",
            "Epoch 49/150\n",
            "125/125 [==============================] - 2s 12ms/step - loss: 0.0341 - accuracy: 0.9868 - val_loss: 0.0581 - val_accuracy: 0.9797\n",
            "Epoch 50/150\n",
            "125/125 [==============================] - 2s 13ms/step - loss: 0.0340 - accuracy: 0.9868 - val_loss: 0.0581 - val_accuracy: 0.9797\n",
            "Epoch 51/150\n",
            "125/125 [==============================] - 2s 12ms/step - loss: 0.0339 - accuracy: 0.9868 - val_loss: 0.0570 - val_accuracy: 0.9801\n",
            "Epoch 52/150\n",
            "125/125 [==============================] - 2s 12ms/step - loss: 0.0338 - accuracy: 0.9869 - val_loss: 0.0579 - val_accuracy: 0.9798\n",
            "Epoch 53/150\n",
            "125/125 [==============================] - 2s 12ms/step - loss: 0.0337 - accuracy: 0.9869 - val_loss: 0.0619 - val_accuracy: 0.9793\n",
            "Epoch 54/150\n",
            "125/125 [==============================] - 2s 12ms/step - loss: 0.0336 - accuracy: 0.9870 - val_loss: 0.0596 - val_accuracy: 0.9797\n",
            "Epoch 55/150\n",
            "125/125 [==============================] - 2s 12ms/step - loss: 0.0334 - accuracy: 0.9870 - val_loss: 0.0564 - val_accuracy: 0.9803\n",
            "Epoch 56/150\n",
            "125/125 [==============================] - 2s 13ms/step - loss: 0.0333 - accuracy: 0.9870 - val_loss: 0.0576 - val_accuracy: 0.9800\n",
            "Epoch 57/150\n",
            "125/125 [==============================] - 2s 13ms/step - loss: 0.0332 - accuracy: 0.9871 - val_loss: 0.0571 - val_accuracy: 0.9801\n",
            "Epoch 58/150\n",
            "125/125 [==============================] - 2s 12ms/step - loss: 0.0330 - accuracy: 0.9872 - val_loss: 0.0569 - val_accuracy: 0.9802\n",
            "Epoch 59/150\n",
            "125/125 [==============================] - 2s 12ms/step - loss: 0.0330 - accuracy: 0.9872 - val_loss: 0.0570 - val_accuracy: 0.9802\n",
            "Epoch 60/150\n",
            "125/125 [==============================] - 2s 12ms/step - loss: 0.0329 - accuracy: 0.9872 - val_loss: 0.0582 - val_accuracy: 0.9797\n",
            "Epoch 61/150\n",
            "125/125 [==============================] - 2s 13ms/step - loss: 0.0327 - accuracy: 0.9873 - val_loss: 0.0578 - val_accuracy: 0.9799\n",
            "Epoch 62/150\n",
            "125/125 [==============================] - 2s 12ms/step - loss: 0.0327 - accuracy: 0.9873 - val_loss: 0.0567 - val_accuracy: 0.9804\n",
            "Epoch 63/150\n",
            "125/125 [==============================] - 2s 13ms/step - loss: 0.0327 - accuracy: 0.9873 - val_loss: 0.0583 - val_accuracy: 0.9799\n",
            "Epoch 64/150\n",
            "125/125 [==============================] - 2s 12ms/step - loss: 0.0325 - accuracy: 0.9874 - val_loss: 0.0615 - val_accuracy: 0.9792\n",
            "Epoch 65/150\n",
            "125/125 [==============================] - 2s 13ms/step - loss: 0.0324 - accuracy: 0.9874 - val_loss: 0.0563 - val_accuracy: 0.9805\n",
            "Epoch 66/150\n",
            "125/125 [==============================] - 2s 12ms/step - loss: 0.0322 - accuracy: 0.9875 - val_loss: 0.0568 - val_accuracy: 0.9803\n",
            "Epoch 67/150\n",
            "125/125 [==============================] - 2s 12ms/step - loss: 0.0322 - accuracy: 0.9874 - val_loss: 0.0560 - val_accuracy: 0.9805\n",
            "Epoch 68/150\n",
            "125/125 [==============================] - 2s 12ms/step - loss: 0.0321 - accuracy: 0.9875 - val_loss: 0.0570 - val_accuracy: 0.9803\n",
            "Epoch 69/150\n",
            "125/125 [==============================] - 2s 12ms/step - loss: 0.0319 - accuracy: 0.9876 - val_loss: 0.0560 - val_accuracy: 0.9805\n",
            "Epoch 70/150\n",
            "125/125 [==============================] - 2s 13ms/step - loss: 0.0319 - accuracy: 0.9876 - val_loss: 0.0571 - val_accuracy: 0.9803\n",
            "Epoch 71/150\n",
            "125/125 [==============================] - 2s 12ms/step - loss: 0.0319 - accuracy: 0.9876 - val_loss: 0.0572 - val_accuracy: 0.9804\n",
            "Epoch 72/150\n",
            "125/125 [==============================] - 2s 13ms/step - loss: 0.0317 - accuracy: 0.9876 - val_loss: 0.0554 - val_accuracy: 0.9808\n",
            "Epoch 73/150\n",
            "125/125 [==============================] - 2s 12ms/step - loss: 0.0317 - accuracy: 0.9877 - val_loss: 0.0571 - val_accuracy: 0.9801\n",
            "Epoch 74/150\n",
            "125/125 [==============================] - 2s 13ms/step - loss: 0.0315 - accuracy: 0.9877 - val_loss: 0.0580 - val_accuracy: 0.9800\n",
            "Epoch 75/150\n",
            "125/125 [==============================] - 2s 12ms/step - loss: 0.0315 - accuracy: 0.9877 - val_loss: 0.0585 - val_accuracy: 0.9803\n",
            "Epoch 76/150\n",
            "125/125 [==============================] - 2s 12ms/step - loss: 0.0314 - accuracy: 0.9877 - val_loss: 0.0559 - val_accuracy: 0.9806\n",
            "Epoch 77/150\n",
            "125/125 [==============================] - 2s 13ms/step - loss: 0.0313 - accuracy: 0.9878 - val_loss: 0.0557 - val_accuracy: 0.9808\n",
            "Epoch 78/150\n",
            "125/125 [==============================] - 2s 12ms/step - loss: 0.0312 - accuracy: 0.9878 - val_loss: 0.0573 - val_accuracy: 0.9805\n",
            "Epoch 79/150\n",
            "125/125 [==============================] - 2s 13ms/step - loss: 0.0311 - accuracy: 0.9879 - val_loss: 0.0556 - val_accuracy: 0.9808\n",
            "Epoch 80/150\n",
            "125/125 [==============================] - 2s 12ms/step - loss: 0.0310 - accuracy: 0.9879 - val_loss: 0.0562 - val_accuracy: 0.9806\n",
            "Epoch 81/150\n",
            "125/125 [==============================] - 2s 12ms/step - loss: 0.0311 - accuracy: 0.9879 - val_loss: 0.0563 - val_accuracy: 0.9806\n",
            "Epoch 82/150\n",
            "125/125 [==============================] - 2s 12ms/step - loss: 0.0310 - accuracy: 0.9879 - val_loss: 0.0564 - val_accuracy: 0.9807\n",
            "Epoch 83/150\n",
            "125/125 [==============================] - 2s 12ms/step - loss: 0.0308 - accuracy: 0.9880 - val_loss: 0.0560 - val_accuracy: 0.9807\n",
            "Epoch 84/150\n",
            "125/125 [==============================] - 2s 12ms/step - loss: 0.0308 - accuracy: 0.9880 - val_loss: 0.0588 - val_accuracy: 0.9802\n",
            "Epoch 85/150\n",
            "125/125 [==============================] - 2s 12ms/step - loss: 0.0307 - accuracy: 0.9880 - val_loss: 0.0550 - val_accuracy: 0.9809\n",
            "Epoch 86/150\n",
            "125/125 [==============================] - 2s 12ms/step - loss: 0.0307 - accuracy: 0.9880 - val_loss: 0.0570 - val_accuracy: 0.9805\n",
            "Epoch 87/150\n",
            "125/125 [==============================] - 2s 13ms/step - loss: 0.0306 - accuracy: 0.9880 - val_loss: 0.0584 - val_accuracy: 0.9804\n",
            "Epoch 88/150\n",
            "125/125 [==============================] - 2s 12ms/step - loss: 0.0304 - accuracy: 0.9881 - val_loss: 0.0558 - val_accuracy: 0.9808\n",
            "Epoch 89/150\n",
            "125/125 [==============================] - 2s 12ms/step - loss: 0.0304 - accuracy: 0.9881 - val_loss: 0.0557 - val_accuracy: 0.9809\n",
            "Epoch 90/150\n",
            "125/125 [==============================] - 2s 12ms/step - loss: 0.0303 - accuracy: 0.9881 - val_loss: 0.0556 - val_accuracy: 0.9810\n",
            "Epoch 91/150\n",
            "125/125 [==============================] - 2s 12ms/step - loss: 0.0304 - accuracy: 0.9881 - val_loss: 0.0563 - val_accuracy: 0.9808\n",
            "Epoch 92/150\n",
            "125/125 [==============================] - 2s 12ms/step - loss: 0.0303 - accuracy: 0.9882 - val_loss: 0.0580 - val_accuracy: 0.9804\n",
            "Epoch 93/150\n",
            "125/125 [==============================] - 2s 12ms/step - loss: 0.0301 - accuracy: 0.9882 - val_loss: 0.0547 - val_accuracy: 0.9811\n",
            "Epoch 94/150\n",
            "125/125 [==============================] - 2s 12ms/step - loss: 0.0301 - accuracy: 0.9883 - val_loss: 0.0563 - val_accuracy: 0.9809\n",
            "Epoch 95/150\n",
            "125/125 [==============================] - 2s 13ms/step - loss: 0.0300 - accuracy: 0.9883 - val_loss: 0.0551 - val_accuracy: 0.9811\n",
            "Epoch 96/150\n",
            "125/125 [==============================] - 2s 12ms/step - loss: 0.0299 - accuracy: 0.9883 - val_loss: 0.0568 - val_accuracy: 0.9808\n",
            "Epoch 97/150\n",
            "125/125 [==============================] - 2s 12ms/step - loss: 0.0299 - accuracy: 0.9883 - val_loss: 0.0553 - val_accuracy: 0.9812\n",
            "Epoch 98/150\n",
            "125/125 [==============================] - 2s 12ms/step - loss: 0.0298 - accuracy: 0.9884 - val_loss: 0.0555 - val_accuracy: 0.9809\n",
            "Epoch 99/150\n",
            "125/125 [==============================] - 2s 12ms/step - loss: 0.0296 - accuracy: 0.9884 - val_loss: 0.0550 - val_accuracy: 0.9811\n",
            "Epoch 100/150\n",
            "125/125 [==============================] - 2s 12ms/step - loss: 0.0296 - accuracy: 0.9884 - val_loss: 0.0559 - val_accuracy: 0.9810\n",
            "Epoch 101/150\n",
            "125/125 [==============================] - 2s 13ms/step - loss: 0.0296 - accuracy: 0.9884 - val_loss: 0.0569 - val_accuracy: 0.9809\n",
            "Epoch 102/150\n",
            "125/125 [==============================] - 2s 13ms/step - loss: 0.0296 - accuracy: 0.9884 - val_loss: 0.0565 - val_accuracy: 0.9810\n",
            "Epoch 103/150\n",
            "125/125 [==============================] - 2s 12ms/step - loss: 0.0295 - accuracy: 0.9885 - val_loss: 0.0550 - val_accuracy: 0.9812\n",
            "Epoch 104/150\n",
            "125/125 [==============================] - 2s 12ms/step - loss: 0.0294 - accuracy: 0.9885 - val_loss: 0.0548 - val_accuracy: 0.9813\n",
            "Epoch 105/150\n",
            "125/125 [==============================] - 2s 12ms/step - loss: 0.0294 - accuracy: 0.9885 - val_loss: 0.0545 - val_accuracy: 0.9814\n",
            "Epoch 106/150\n",
            "125/125 [==============================] - 2s 12ms/step - loss: 0.0293 - accuracy: 0.9885 - val_loss: 0.0545 - val_accuracy: 0.9814\n",
            "Epoch 107/150\n",
            "125/125 [==============================] - 2s 12ms/step - loss: 0.0291 - accuracy: 0.9886 - val_loss: 0.0554 - val_accuracy: 0.9812\n",
            "Epoch 108/150\n",
            "125/125 [==============================] - 2s 12ms/step - loss: 0.0292 - accuracy: 0.9886 - val_loss: 0.0546 - val_accuracy: 0.9813\n",
            "Epoch 109/150\n",
            "125/125 [==============================] - 2s 13ms/step - loss: 0.0291 - accuracy: 0.9886 - val_loss: 0.0543 - val_accuracy: 0.9813\n",
            "Epoch 110/150\n",
            "125/125 [==============================] - 2s 12ms/step - loss: 0.0290 - accuracy: 0.9887 - val_loss: 0.0554 - val_accuracy: 0.9811\n",
            "Epoch 111/150\n",
            "125/125 [==============================] - 2s 12ms/step - loss: 0.0289 - accuracy: 0.9887 - val_loss: 0.0572 - val_accuracy: 0.9810\n",
            "Epoch 112/150\n",
            "125/125 [==============================] - 2s 12ms/step - loss: 0.0289 - accuracy: 0.9887 - val_loss: 0.0555 - val_accuracy: 0.9812\n",
            "Epoch 113/150\n",
            "125/125 [==============================] - 2s 12ms/step - loss: 0.0289 - accuracy: 0.9887 - val_loss: 0.0556 - val_accuracy: 0.9811\n",
            "Epoch 114/150\n",
            "125/125 [==============================] - 2s 12ms/step - loss: 0.0288 - accuracy: 0.9887 - val_loss: 0.0548 - val_accuracy: 0.9814\n",
            "Epoch 115/150\n",
            "125/125 [==============================] - 2s 12ms/step - loss: 0.0287 - accuracy: 0.9888 - val_loss: 0.0548 - val_accuracy: 0.9813\n",
            "Epoch 116/150\n",
            "125/125 [==============================] - 2s 12ms/step - loss: 0.0287 - accuracy: 0.9888 - val_loss: 0.0557 - val_accuracy: 0.9812\n",
            "Epoch 117/150\n",
            "125/125 [==============================] - 2s 12ms/step - loss: 0.0286 - accuracy: 0.9888 - val_loss: 0.0553 - val_accuracy: 0.9811\n",
            "Epoch 118/150\n",
            "125/125 [==============================] - 2s 12ms/step - loss: 0.0285 - accuracy: 0.9888 - val_loss: 0.0566 - val_accuracy: 0.9808\n",
            "Epoch 119/150\n",
            "125/125 [==============================] - 2s 12ms/step - loss: 0.0286 - accuracy: 0.9888 - val_loss: 0.0540 - val_accuracy: 0.9816\n",
            "Epoch 120/150\n",
            "125/125 [==============================] - 2s 12ms/step - loss: 0.0285 - accuracy: 0.9889 - val_loss: 0.0546 - val_accuracy: 0.9815\n",
            "Epoch 121/150\n",
            "125/125 [==============================] - 2s 13ms/step - loss: 0.0284 - accuracy: 0.9889 - val_loss: 0.0572 - val_accuracy: 0.9805\n",
            "Epoch 122/150\n",
            "125/125 [==============================] - 2s 12ms/step - loss: 0.0284 - accuracy: 0.9889 - val_loss: 0.0540 - val_accuracy: 0.9817\n",
            "Epoch 123/150\n",
            "125/125 [==============================] - 2s 12ms/step - loss: 0.0283 - accuracy: 0.9889 - val_loss: 0.0561 - val_accuracy: 0.9811\n",
            "Epoch 124/150\n",
            "125/125 [==============================] - 2s 12ms/step - loss: 0.0282 - accuracy: 0.9890 - val_loss: 0.0561 - val_accuracy: 0.9811\n",
            "Epoch 125/150\n",
            "125/125 [==============================] - 2s 13ms/step - loss: 0.0282 - accuracy: 0.9890 - val_loss: 0.0541 - val_accuracy: 0.9816\n",
            "Epoch 126/150\n",
            "125/125 [==============================] - 2s 12ms/step - loss: 0.0281 - accuracy: 0.9890 - val_loss: 0.0552 - val_accuracy: 0.9814\n",
            "Epoch 127/150\n",
            "125/125 [==============================] - 2s 12ms/step - loss: 0.0281 - accuracy: 0.9890 - val_loss: 0.0548 - val_accuracy: 0.9814\n",
            "Epoch 128/150\n",
            "125/125 [==============================] - 2s 12ms/step - loss: 0.0280 - accuracy: 0.9890 - val_loss: 0.0544 - val_accuracy: 0.9817\n",
            "Epoch 129/150\n",
            "125/125 [==============================] - 2s 13ms/step - loss: 0.0280 - accuracy: 0.9890 - val_loss: 0.0546 - val_accuracy: 0.9815\n",
            "Epoch 130/150\n",
            "125/125 [==============================] - 2s 12ms/step - loss: 0.0278 - accuracy: 0.9891 - val_loss: 0.0538 - val_accuracy: 0.9817\n",
            "Epoch 131/150\n",
            "125/125 [==============================] - 2s 12ms/step - loss: 0.0279 - accuracy: 0.9891 - val_loss: 0.0563 - val_accuracy: 0.9812\n",
            "Epoch 132/150\n",
            "125/125 [==============================] - 2s 13ms/step - loss: 0.0278 - accuracy: 0.9891 - val_loss: 0.0553 - val_accuracy: 0.9814\n",
            "Epoch 133/150\n",
            "125/125 [==============================] - 2s 12ms/step - loss: 0.0277 - accuracy: 0.9892 - val_loss: 0.0548 - val_accuracy: 0.9815\n",
            "Epoch 134/150\n",
            "125/125 [==============================] - 2s 12ms/step - loss: 0.0277 - accuracy: 0.9891 - val_loss: 0.0557 - val_accuracy: 0.9812\n",
            "Epoch 135/150\n",
            "125/125 [==============================] - 2s 12ms/step - loss: 0.0277 - accuracy: 0.9892 - val_loss: 0.0537 - val_accuracy: 0.9818\n",
            "Epoch 136/150\n",
            "125/125 [==============================] - 2s 12ms/step - loss: 0.0276 - accuracy: 0.9892 - val_loss: 0.0547 - val_accuracy: 0.9815\n",
            "Epoch 137/150\n",
            "125/125 [==============================] - 2s 12ms/step - loss: 0.0276 - accuracy: 0.9892 - val_loss: 0.0545 - val_accuracy: 0.9816\n",
            "Epoch 138/150\n",
            "125/125 [==============================] - 2s 12ms/step - loss: 0.0275 - accuracy: 0.9893 - val_loss: 0.0550 - val_accuracy: 0.9815\n",
            "Epoch 139/150\n",
            "125/125 [==============================] - 2s 12ms/step - loss: 0.0275 - accuracy: 0.9892 - val_loss: 0.0535 - val_accuracy: 0.9817\n",
            "Epoch 140/150\n",
            "125/125 [==============================] - 2s 13ms/step - loss: 0.0274 - accuracy: 0.9893 - val_loss: 0.0540 - val_accuracy: 0.9816\n",
            "Epoch 141/150\n",
            "125/125 [==============================] - 2s 12ms/step - loss: 0.0274 - accuracy: 0.9893 - val_loss: 0.0534 - val_accuracy: 0.9819\n",
            "Epoch 142/150\n",
            "125/125 [==============================] - 2s 12ms/step - loss: 0.0273 - accuracy: 0.9893 - val_loss: 0.0538 - val_accuracy: 0.9819\n",
            "Epoch 143/150\n",
            "125/125 [==============================] - 2s 12ms/step - loss: 0.0272 - accuracy: 0.9893 - val_loss: 0.0564 - val_accuracy: 0.9813\n",
            "Epoch 144/150\n",
            "125/125 [==============================] - 2s 12ms/step - loss: 0.0272 - accuracy: 0.9893 - val_loss: 0.0541 - val_accuracy: 0.9817\n",
            "Epoch 145/150\n",
            "125/125 [==============================] - 2s 12ms/step - loss: 0.0272 - accuracy: 0.9894 - val_loss: 0.0552 - val_accuracy: 0.9816\n",
            "Epoch 146/150\n",
            "125/125 [==============================] - 2s 12ms/step - loss: 0.0271 - accuracy: 0.9894 - val_loss: 0.0541 - val_accuracy: 0.9818\n",
            "Epoch 147/150\n",
            "125/125 [==============================] - 2s 13ms/step - loss: 0.0271 - accuracy: 0.9894 - val_loss: 0.0532 - val_accuracy: 0.9820\n",
            "Epoch 148/150\n",
            "125/125 [==============================] - 2s 12ms/step - loss: 0.0270 - accuracy: 0.9894 - val_loss: 0.0528 - val_accuracy: 0.9821\n",
            "Epoch 149/150\n",
            "125/125 [==============================] - 2s 13ms/step - loss: 0.0270 - accuracy: 0.9894 - val_loss: 0.0539 - val_accuracy: 0.9819\n",
            "Epoch 150/150\n",
            "125/125 [==============================] - 2s 12ms/step - loss: 0.0269 - accuracy: 0.9894 - val_loss: 0.0540 - val_accuracy: 0.9819\n"
          ]
        }
      ],
      "source": [
        "# OTHER THAN SETTING THE EPOCHS NUMBER, DO NOT CHANGE ANY OTHER CODE\n",
        "\n",
        "### START CODE HERE ###\n",
        "EPOCHS = 150\n",
        "### END CODE HERE ###\n",
        "\n",
        "steps_per_epoch = 4000//BATCH_SIZE\n",
        "validation_steps = 800//BATCH_SIZE\n",
        "test_steps = 200//BATCH_SIZE\n",
        "\n",
        "\n",
        "history = model.fit(training_dataset,\n",
        "                    steps_per_epoch=steps_per_epoch, validation_data=validation_dataset, validation_steps=validation_steps, epochs=EPOCHS)"
      ]
    },
    {
      "cell_type": "markdown",
      "metadata": {
        "id": "BLNzLB3peeNG"
      },
      "source": [
        "**Expected Output:**\n",
        "\n",
        "The losses should generally be decreasing and the accuracies should generally be increasing. For example, observing the first 4 epochs should output something similar:\n",
        "\n",
        "```txt\n",
        "Epoch 1/70\n",
        "125/125 [==============================] - 6s 50ms/step - loss: 0.5542 - accuracy: 0.8635 - val_loss: 0.5335 - val_accuracy: 0.9427\n",
        "Epoch 2/70\n",
        "125/125 [==============================] - 6s 47ms/step - loss: 0.2315 - accuracy: 0.9425 - val_loss: 0.3362 - val_accuracy: 0.9427\n",
        "Epoch 3/70\n",
        "125/125 [==============================] - 6s 47ms/step - loss: 0.2118 - accuracy: 0.9426 - val_loss: 0.2592 - val_accuracy: 0.9427\n",
        "Epoch 4/70\n",
        "125/125 [==============================] - 6s 47ms/step - loss: 0.1782 - accuracy: 0.9431 - val_loss: 0.1770 - val_accuracy: 0.9432\n",
        "```"
      ]
    },
    {
      "cell_type": "markdown",
      "metadata": {
        "id": "eih-Q7GoXzJe"
      },
      "source": [
        "## Model Evaluation"
      ]
    },
    {
      "cell_type": "markdown",
      "metadata": {
        "id": "2bTkaFM2X1gr"
      },
      "source": [
        "### Make Predictions\n",
        "\n",
        "Let's get the predictions using our test dataset as input and print the shape."
      ]
    },
    {
      "cell_type": "code",
      "execution_count": 43,
      "metadata": {
        "id": "zENjQuK0luH5",
        "colab": {
          "base_uri": "https://localhost:8080/"
        },
        "outputId": "9ce44095-2d28-41a3-a668-6028356e191e"
      },
      "outputs": [
        {
          "output_type": "stream",
          "name": "stdout",
          "text": [
            "6/6 [==============================] - 0s 3ms/step\n",
            "(192, 64, 84, 11)\n"
          ]
        }
      ],
      "source": [
        "results = model.predict(test_dataset, steps=test_steps)\n",
        "\n",
        "print(results.shape)"
      ]
    },
    {
      "cell_type": "markdown",
      "metadata": {
        "id": "IReKPT_DZHjA"
      },
      "source": [
        "As you can see, the resulting shape is `(192, 64, 84, 11)`. This means that for each of the 192 images that we have in our test set, there are 11 predictions generated (i.e. one for each class: 0 to 1 plus background)."
      ]
    },
    {
      "cell_type": "markdown",
      "metadata": {
        "id": "OBPBqnHyaSaG"
      },
      "source": [
        "Thus, if you want to see the *probability* of the upper leftmost pixel of the 1st image belonging to class 0, then you can print something like `results[0,0,0,0]`. If you want the probability of the same pixel at class 10, then do `results[0,0,0,10]`.\n",
        "\n",
        "\n"
      ]
    },
    {
      "cell_type": "code",
      "execution_count": 44,
      "metadata": {
        "id": "jwFiR9WAf0Av",
        "colab": {
          "base_uri": "https://localhost:8080/"
        },
        "outputId": "b2bd53e0-f27b-446b-aea9-07d6b0b1e56b"
      },
      "outputs": [
        {
          "output_type": "stream",
          "name": "stdout",
          "text": [
            "6.185403e-06\n",
            "0.99992096\n"
          ]
        }
      ],
      "source": [
        "print(results[0,0,0,0])\n",
        "print(results[0,0,0,10])"
      ]
    },
    {
      "cell_type": "markdown",
      "metadata": {
        "id": "wKDsqzKEf28V"
      },
      "source": [
        "What we're interested in is to get the *index* of the highest probability of each of these 11 slices and combine them in a single image. We can do that by getting the [argmax](https://numpy.org/doc/stable/reference/generated/numpy.argmax.html) at this axis."
      ]
    },
    {
      "cell_type": "code",
      "execution_count": 45,
      "metadata": {
        "id": "0_Uj_uuV9TQt",
        "colab": {
          "base_uri": "https://localhost:8080/"
        },
        "outputId": "d0d9cce2-c685-4fd0-d4aa-8f7b43473bd6"
      },
      "outputs": [
        {
          "output_type": "stream",
          "name": "stdout",
          "text": [
            "(192, 64, 84)\n"
          ]
        }
      ],
      "source": [
        "results = np.argmax(results, axis=3)\n",
        "\n",
        "print(results.shape)"
      ]
    },
    {
      "cell_type": "markdown",
      "metadata": {
        "id": "ClaGbOLhdKD2"
      },
      "source": [
        "The new array generated per image now only specifies the indices of the class with the highest probability. Let's see the output class of the upper most left pixel. As you might have observed earlier when you inspected the dataset, the upper left corner is usually just part of the background (class 10). The actual digits are written somewhere in the middle parts of the image."
      ]
    },
    {
      "cell_type": "code",
      "execution_count": 46,
      "metadata": {
        "id": "aBeBwvHQd2pZ",
        "colab": {
          "base_uri": "https://localhost:8080/"
        },
        "outputId": "b5011695-0fff-40af-c9d1-f102dd51a10d"
      },
      "outputs": [
        {
          "output_type": "stream",
          "name": "stdout",
          "text": [
            "10\n",
            "[[10 10 10 ... 10 10 10]\n",
            " [10 10 10 ... 10 10 10]\n",
            " [10 10 10 ... 10 10 10]\n",
            " ...\n",
            " [10 10 10 ... 10 10 10]\n",
            " [10 10 10 ... 10 10 10]\n",
            " [10 10 10 ... 10 10 10]]\n"
          ]
        }
      ],
      "source": [
        "print(results[0,0,0])\n",
        "\n",
        "# prediction map for image 0\n",
        "print(results[0,:,:])"
      ]
    },
    {
      "cell_type": "markdown",
      "metadata": {
        "id": "V3FxyNgrg7IE"
      },
      "source": [
        "We will use this `results` array when we evaluate our predictions."
      ]
    },
    {
      "cell_type": "markdown",
      "metadata": {
        "id": "hpKDUuAWX5Pj"
      },
      "source": [
        "### Metrics\n",
        "\n",
        "We showed in the lectures two ways to evaluate your predictions. The *intersection over union (IOU)* and the *dice score*. Recall that:\n",
        "\n",
        "$$IOU = \\frac{area\\_of\\_overlap}{area\\_of\\_union}$$\n",
        "<br>\n",
        "$$Dice Score = 2 * \\frac{area\\_of\\_overlap}{combined\\_area}$$\n",
        "\n",
        "The code below does that for you as you've also seen in the ungraded lab. A small smoothing factor is introduced in the denominators to prevent possible division by zero."
      ]
    },
    {
      "cell_type": "code",
      "execution_count": 47,
      "metadata": {
        "id": "gKTpLmly_RXb"
      },
      "outputs": [],
      "source": [
        "def class_wise_metrics(y_true, y_pred):\n",
        "  '''\n",
        "  Computes the class-wise IOU and Dice Score.\n",
        "\n",
        "  Args:\n",
        "    y_true (tensor) - ground truth label maps\n",
        "    y_pred (tensor) - predicted label maps\n",
        "  '''\n",
        "  class_wise_iou = []\n",
        "  class_wise_dice_score = []\n",
        "\n",
        "  smoothing_factor = 0.00001\n",
        "\n",
        "  for i in range(n_classes):\n",
        "    intersection = np.sum((y_pred == i) * (y_true == i))\n",
        "    y_true_area = np.sum((y_true == i))\n",
        "    y_pred_area = np.sum((y_pred == i))\n",
        "    combined_area = y_true_area + y_pred_area\n",
        "\n",
        "    iou = (intersection) / (combined_area - intersection + smoothing_factor)\n",
        "    class_wise_iou.append(iou)\n",
        "\n",
        "    dice_score =  2 * ((intersection) / (combined_area + smoothing_factor))\n",
        "    class_wise_dice_score.append(dice_score)\n",
        "\n",
        "  return class_wise_iou, class_wise_dice_score\n"
      ]
    },
    {
      "cell_type": "markdown",
      "metadata": {
        "id": "FfWPwM4ZhHjE"
      },
      "source": [
        "### Visualize Predictions"
      ]
    },
    {
      "cell_type": "code",
      "execution_count": 48,
      "metadata": {
        "id": "Hkbsk_P1fpRM",
        "lines_to_next_cell": 2,
        "colab": {
          "base_uri": "https://localhost:8080/",
          "height": 301
        },
        "outputId": "870574d7-8464-4798-af38-22338a410d18"
      },
      "outputs": [
        {
          "output_type": "display_data",
          "data": {
            "text/plain": [
              "<Figure size 1500x400 with 3 Axes>"
            ],
            "image/png": "[encoded data removed]"
          },
          "metadata": {}
        }
      ],
      "source": [
        "# place a number here between 0 to 191 to pick an image from the test set\n",
        "integer_slider = 105\n",
        "\n",
        "ds = test_dataset.unbatch()\n",
        "ds = ds.batch(200)\n",
        "images = []\n",
        "\n",
        "y_true_segments = []\n",
        "for image, annotation in ds.take(2):\n",
        "  y_true_segments = annotation\n",
        "  images = image\n",
        "\n",
        "\n",
        "iou, dice_score = class_wise_metrics(np.argmax(y_true_segments[integer_slider], axis=2), results[integer_slider])\n",
        "show_annotation_and_prediction(image[integer_slider], annotation[integer_slider], results[integer_slider], iou, dice_score)\n"
      ]
    },
    {
      "cell_type": "markdown",
      "metadata": {
        "id": "EiG9K4t6X9iZ"
      },
      "source": [
        "### Compute IOU Score and Dice Score of your model"
      ]
    },
    {
      "cell_type": "code",
      "execution_count": 49,
      "metadata": {
        "id": "2706boF0CNNS",
        "lines_to_next_cell": 2,
        "colab": {
          "base_uri": "https://localhost:8080/"
        },
        "outputId": "60e2dabe-c11e-4831-a8c5-6c52587c655b"
      },
      "outputs": [
        {
          "output_type": "stream",
          "name": "stdout",
          "text": [
            "Digit 0: IOU: 0.7201348738919378 Dice Score: 0.8373004754709462\n",
            "Digit 1: IOU: 0.6989355278189686 Dice Score: 0.8227922912604418\n",
            "Digit 2: IOU: 0.5964182913392736 Dice Score: 0.7471955120721199\n",
            "Digit 3: IOU: 0.5711057752138035 Dice Score: 0.727011235301563\n",
            "Digit 4: IOU: 0.6635528805200239 Dice Score: 0.7977538776075437\n",
            "Digit 5: IOU: 0.5423671242275987 Dice Score: 0.7032918631473172\n",
            "Digit 6: IOU: 0.699936019727089 Dice Score: 0.8234851330927832\n",
            "Digit 7: IOU: 0.7236675562879096 Dice Score: 0.8396834455089472\n",
            "Digit 8: IOU: 0.670819489658334 Dice Score: 0.8029826008260293\n",
            "Digit 9: IOU: 0.6579483153360246 Dice Score: 0.7936897782035804\n",
            "\n",
            "Grade is 65.44885854020963\n",
            "You passed!\n"
          ]
        }
      ],
      "source": [
        "cls_wise_iou, cls_wise_dice_score = class_wise_metrics(np.argmax(y_true_segments, axis=3), results)\n",
        "\n",
        "average_iou = 0.0\n",
        "for idx, (iou, dice_score) in enumerate(zip(cls_wise_iou[:-1], cls_wise_dice_score[:-1])):\n",
        "  print(\"Digit {}: IOU: {} Dice Score: {}\".format(idx, iou, dice_score))\n",
        "  average_iou += iou\n",
        "\n",
        "grade = average_iou * 10\n",
        "\n",
        "print(\"\\nGrade is \" + str(grade))\n",
        "\n",
        "PASSING_GRADE = 60\n",
        "if (grade>PASSING_GRADE):\n",
        "  print(\"You passed!\")\n",
        "else:\n",
        "  print(\"You failed. Please check your model and re-train\")"
      ]
    },
    {
      "cell_type": "markdown",
      "metadata": {
        "id": "vvw0HLY2kV3w"
      },
      "source": [
        "## Save the Model\n",
        "\n",
        "Once you're satisfied with the results, you can save your model and upload it to the grader in Coursera. Please run all succeeding cells to ensure that you will have a gradable submission. Otherwise, you might get this error message:\n",
        "\n",
        "`There was a problem grading your submission. Check stderr for more details.`\n",
        "\n",
        "First, save the model file in your Colab workspace."
      ]
    },
    {
      "cell_type": "code",
      "execution_count": 50,
      "metadata": {
        "id": "ULCfGHEKkaO0"
      },
      "outputs": [],
      "source": [
        "# Save the model you just trained\n",
        "model.save(\"temp_model.h5\")"
      ]
    },
    {
      "cell_type": "markdown",
      "metadata": {
        "id": "SuUoVmXBZYqc"
      },
      "source": [
        "Tensorflow releases minor and patch updates every few months ([sometimes quicker](https://pypi.org/project/tensorflow/#history)). Oftentimes, the code and syntax won't change but the newer versions will have a different model definition under the hood. The next cells will convert your newer model to one that the grader can read. You won't have to do this in your personal projects. This is just an extra step for grading."
      ]
    },
    {
      "cell_type": "code",
      "execution_count": 51,
      "metadata": {
        "id": "OxpkHjH40s_F"
      },
      "outputs": [],
      "source": [
        "# Install packages for compatibility with the autograder\n",
        "\n",
        "# NOTE: You can safely ignore errors about version incompatibility of\n",
        "# Colab-bundled packages (e.g. xarray, pydantic, etc.)\n",
        "\n",
        "!pip install tensorflow==2.8.0 --quiet\n",
        "!pip install keras==2.8.0 --quiet"
      ]
    },
    {
      "cell_type": "markdown",
      "metadata": {
        "id": "bQf0BVmsXIAM"
      },
      "source": [
        "Wait for the cell above to complete. After that, **go to `Runtime > Restart Session` and wait for the kernel to reconnect.** This is necessary so you can reload Tensorflow with the version installed above. Run the next cell to check if you have the correct version. You will get an `AssertionError` if you didn't restart the session."
      ]
    },
    {
      "cell_type": "code",
      "execution_count": 1,
      "metadata": {
        "id": "TEcDAyaNMyW-"
      },
      "outputs": [],
      "source": [
        "import tensorflow as tf\n",
        "\n",
        "# Check if you have the correct Tensorflow version\n",
        "assert tf.__version__ == '2.8.0', f'You have TF{tf.__version__}. Please install the grader-compatible Tensorflow and select Runtime > Restart Session'"
      ]
    },
    {
      "cell_type": "markdown",
      "metadata": {
        "id": "kaFHTqWufL9F"
      },
      "source": [
        "If you didn't get an error above, you can finally convert the model."
      ]
    },
    {
      "cell_type": "code",
      "execution_count": 2,
      "metadata": {
        "id": "ljeWKuSKYEHE",
        "colab": {
          "base_uri": "https://localhost:8080/"
        },
        "outputId": "c14cf13e-bbe4-4f0d-e7fb-5ac867f1f61a"
      },
      "outputs": [
        {
          "output_type": "stream",
          "name": "stderr",
          "text": [
            "WARNING:tensorflow:Compiled the loaded model, but the compiled metrics have yet to be built. `model.compile_metrics` will be empty until you train or evaluate the model.\n"
          ]
        }
      ],
      "source": [
        "# Load the model you saved earlier\n",
        "model = tf.keras.models.load_model(\"temp_model.h5\", compile=False)\n",
        "\n",
        "# Save the model with the compatible TF version\n",
        "model.save(\"final_model.h5\")"
      ]
    },
    {
      "cell_type": "markdown",
      "metadata": {
        "id": "vG4JE2JNYGUG"
      },
      "source": [
        "Please look for `final_model.h5` in the File Explorer on the left and download it. Then go back to the Coursera classroom and upload it to the Lab item that points to the autograder of Week 3. Alternatively, you can also use the cell below to download the model.\n",
        "\n"
      ]
    },
    {
      "cell_type": "code",
      "execution_count": 3,
      "metadata": {
        "id": "NCd50-pubX_o",
        "colab": {
          "base_uri": "https://localhost:8080/",
          "height": 17
        },
        "outputId": "c6d6e309-866f-4e85-8fd5-fce61c01c34f"
      },
      "outputs": [
        {
          "output_type": "display_data",
          "data": {
            "text/plain": [
              "<IPython.core.display.Javascript object>"
            ],
            "application/javascript": [
              "\n",
              "    async function download(id, filename, size) {\n",
              "      if (!google.colab.kernel.accessAllowed) {\n",
              "        return;\n",
              "      }\n",
              "      const div = document.createElement('div');\n",
              "      const label = document.createElement('label');\n",
              "      label.textContent = `Downloading \"${filename}\": `;\n",
              "      div.appendChild(label);\n",
              "      const progress = document.createElement('progress');\n",
              "      progress.max = size;\n",
              "      div.appendChild(progress);\n",
              "      document.body.appendChild(div);\n",
              "\n",
              "      const buffers = [];\n",
              "      let downloaded = 0;\n",
              "\n",
              "      const channel = await google.colab.kernel.comms.open(id);\n",
              "      // Send a message to notify the kernel that we're ready.\n",
              "      channel.send({})\n",
              "\n",
              "      for await (const message of channel.messages) {\n",
              "        // Send a message to notify the kernel that we're ready.\n",
              "        channel.send({})\n",
              "        if (message.buffers) {\n",
              "          for (const buffer of message.buffers) {\n",
              "            buffers.push(buffer);\n",
              "            downloaded += buffer.byteLength;\n",
              "            progress.value = downloaded;\n",
              "          }\n",
              "        }\n",
              "      }\n",
              "      const blob = new Blob(buffers, {type: 'application/binary'});\n",
              "      const a = document.createElement('a');\n",
              "      a.href = window.URL.createObjectURL(blob);\n",
              "      a.download = filename;\n",
              "      div.appendChild(a);\n",
              "      a.click();\n",
              "      div.remove();\n",
              "    }\n",
              "  "
            ]
          },
          "metadata": {}
        },
        {
          "output_type": "display_data",
          "data": {
            "text/plain": [
              "<IPython.core.display.Javascript object>"
            ],
            "application/javascript": [
              "download(\"download_b5253f89-f12c-4621-840d-445a35907b7e\", \"final_model.h5\", 4540784)"
            ]
          },
          "metadata": {}
        }
      ],
      "source": [
        "# You can also use this cell as a shortcut for downloading your model\n",
        "from google.colab import files\n",
        "files.download(\"final_model.h5\")"
      ]
    },
    {
      "cell_type": "markdown",
      "metadata": {
        "id": "dmyvoAynkgVw"
      },
      "source": [
        "**Congratulations on completing this assignment on image segmentation!**"
      ]
    }
  ],
  "metadata": {
    "accelerator": "GPU",
    "colab": {
      "provenance": [],
      "machine_shape": "hm",
      "gpuType": "A100"
    },
    "kernelspec": {
      "display_name": "Python 3",
      "name": "python3"
    },
    "language_info": {
      "codemirror_mode": {
        "name": "ipython",
        "version": 3
      },
      "file_extension": ".py",
      "mimetype": "text/x-python",
      "name": "python",
      "nbconvert_exporter": "python",
      "pygments_lexer": "ipython3",
      "version": "3.9.13"
    },
    "vscode": {
      "interpreter": {
        "hash": "56d44d6a8424451b5ce45d1ae0b0b7865dc60710e7f74571dd51dd80d7829ee9"
      }
    }
  },
  "nbformat": 4,
  "nbformat_minor": 0
}